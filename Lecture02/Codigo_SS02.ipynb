{
 "cells": [
  {
   "cell_type": "markdown",
   "id": "e53dc4f6",
   "metadata": {},
   "source": [
    "<div >\n",
    "<img src = \"../../banner.jpg\" />\n",
    "</div>"
   ]
  },
  {
   "cell_type": "markdown",
   "id": "32d87f3f",
   "metadata": {},
   "source": [
    "# Linear Regression for Prediction\n",
    "\n",
    "Model \n",
    "\n",
    "$$\n",
    "y= f(X) + u\n",
    "$$\n",
    "\n",
    "$$\n",
    "y= X\\beta + u\n",
    "$$\n",
    "\n",
    "Outcome to be predicted: $Y_i$\n",
    "\n",
    "> *example:* a worker's log wage\n",
    "\n",
    "Characteristics (aka **features**): $X_i=\\left(X_{1i},\\ldots,X_{pi}\\right)'$\n",
    "\n",
    "> *example:* education, age, state of birth, parents' education, cognitive ability, family background\n"
   ]
  },
  {
   "cell_type": "code",
   "execution_count": 1,
   "id": "d86d5977",
   "metadata": {},
   "outputs": [
    {
     "name": "stderr",
     "output_type": "stream",
     "text": [
      "Loading required package: pacman\n",
      "\n"
     ]
    }
   ],
   "source": [
    "#Load Packages\n",
    "require(\"pacman\")\n",
    "p_load(\"tidyverse\",\"stargazer\")\n"
   ]
  },
  {
   "cell_type": "code",
   "execution_count": 2,
   "id": "0f4546c8",
   "metadata": {},
   "outputs": [
    {
     "name": "stderr",
     "output_type": "stream",
     "text": [
      "\u001b[1mRows: \u001b[22m\u001b[34m1266\u001b[39m \u001b[1mColumns: \u001b[22m\u001b[34m994\u001b[39m\n",
      "\u001b[36m──\u001b[39m \u001b[1mColumn specification\u001b[22m \u001b[36m──────────────────────────────────────────────────────────────────────────────────────────────────────────────────────────────────────────────────────────\u001b[39m\n",
      "\u001b[1mDelimiter:\u001b[22m \",\"\n",
      "\u001b[32mdbl\u001b[39m (994): lnw_2016, educ, black, hispanic, other, exp, afqt, mom_educ, dad_...\n",
      "\n",
      "\u001b[36mℹ\u001b[39m Use `spec()` to retrieve the full column specification for this data.\n",
      "\u001b[36mℹ\u001b[39m Specify the column types or set `show_col_types = FALSE` to quiet this message.\n"
     ]
    }
   ],
   "source": [
    "nlsy = read_csv('https://raw.githubusercontent.com/ignaciomsarmiento/datasets/main/nlsy97.csv')\n",
    "\n",
    "nlsy = nlsy  %>%   drop_na(educ) #dropea los valores faltantes (NA)"
   ]
  },
  {
   "cell_type": "code",
   "execution_count": 3,
   "id": "7ed87ba3",
   "metadata": {},
   "outputs": [
    {
     "data": {
      "text/html": [
       "<table class=\"dataframe\">\n",
       "<caption>A tibble: 6 × 994</caption>\n",
       "<thead>\n",
       "\t<tr><th scope=col>lnw_2016</th><th scope=col>educ</th><th scope=col>black</th><th scope=col>hispanic</th><th scope=col>other</th><th scope=col>exp</th><th scope=col>afqt</th><th scope=col>mom_educ</th><th scope=col>dad_educ</th><th scope=col>yhea_100_1997</th><th scope=col>⋯</th><th scope=col>_XPexp_13</th><th scope=col>_XPexp_14</th><th scope=col>_XPexp_16</th><th scope=col>_XPexp_17</th><th scope=col>_XPexp_18</th><th scope=col>_XPexp_19</th><th scope=col>_XPexp_20</th><th scope=col>_XPexp_21</th><th scope=col>_XPexp_22</th><th scope=col>_XPexp_23</th></tr>\n",
       "\t<tr><th scope=col>&lt;dbl&gt;</th><th scope=col>&lt;dbl&gt;</th><th scope=col>&lt;dbl&gt;</th><th scope=col>&lt;dbl&gt;</th><th scope=col>&lt;dbl&gt;</th><th scope=col>&lt;dbl&gt;</th><th scope=col>&lt;dbl&gt;</th><th scope=col>&lt;dbl&gt;</th><th scope=col>&lt;dbl&gt;</th><th scope=col>&lt;dbl&gt;</th><th scope=col>⋯</th><th scope=col>&lt;dbl&gt;</th><th scope=col>&lt;dbl&gt;</th><th scope=col>&lt;dbl&gt;</th><th scope=col>&lt;dbl&gt;</th><th scope=col>&lt;dbl&gt;</th><th scope=col>&lt;dbl&gt;</th><th scope=col>&lt;dbl&gt;</th><th scope=col>&lt;dbl&gt;</th><th scope=col>&lt;dbl&gt;</th><th scope=col>&lt;dbl&gt;</th></tr>\n",
       "</thead>\n",
       "<tbody>\n",
       "\t<tr><td>4.076898</td><td>16</td><td>0</td><td>0</td><td>0</td><td>11</td><td>7.0724</td><td>12</td><td>12</td><td>3</td><td>⋯</td><td>0</td><td>0</td><td>0</td><td>0</td><td>0</td><td>0</td><td>0</td><td>0</td><td>0</td><td>0</td></tr>\n",
       "\t<tr><td>3.294138</td><td> 9</td><td>0</td><td>0</td><td>0</td><td>19</td><td>4.7481</td><td> 9</td><td>10</td><td>2</td><td>⋯</td><td>0</td><td>0</td><td>0</td><td>0</td><td>0</td><td>1</td><td>0</td><td>0</td><td>0</td><td>0</td></tr>\n",
       "\t<tr><td>2.830896</td><td> 9</td><td>0</td><td>1</td><td>0</td><td>22</td><td>1.1987</td><td>12</td><td> 9</td><td>3</td><td>⋯</td><td>0</td><td>0</td><td>0</td><td>0</td><td>0</td><td>0</td><td>0</td><td>0</td><td>1</td><td>0</td></tr>\n",
       "\t<tr><td>4.306459</td><td>16</td><td>0</td><td>0</td><td>0</td><td>13</td><td>8.9321</td><td>16</td><td>18</td><td>2</td><td>⋯</td><td>1</td><td>0</td><td>0</td><td>0</td><td>0</td><td>0</td><td>0</td><td>0</td><td>0</td><td>0</td></tr>\n",
       "\t<tr><td>5.991465</td><td>16</td><td>0</td><td>1</td><td>0</td><td>15</td><td>2.2618</td><td>16</td><td>16</td><td>1</td><td>⋯</td><td>0</td><td>0</td><td>0</td><td>0</td><td>0</td><td>0</td><td>0</td><td>0</td><td>0</td><td>0</td></tr>\n",
       "\t<tr><td>4.711924</td><td>16</td><td>0</td><td>0</td><td>0</td><td>14</td><td>8.9502</td><td>18</td><td>20</td><td>1</td><td>⋯</td><td>0</td><td>1</td><td>0</td><td>0</td><td>0</td><td>0</td><td>0</td><td>0</td><td>0</td><td>0</td></tr>\n",
       "</tbody>\n",
       "</table>\n"
      ],
      "text/latex": [
       "A tibble: 6 × 994\n",
       "\\begin{tabular}{lllllllllllllllllllll}\n",
       " lnw\\_2016 & educ & black & hispanic & other & exp & afqt & mom\\_educ & dad\\_educ & yhea\\_100\\_1997 & ⋯ & \\_XPexp\\_13 & \\_XPexp\\_14 & \\_XPexp\\_16 & \\_XPexp\\_17 & \\_XPexp\\_18 & \\_XPexp\\_19 & \\_XPexp\\_20 & \\_XPexp\\_21 & \\_XPexp\\_22 & \\_XPexp\\_23\\\\\n",
       " <dbl> & <dbl> & <dbl> & <dbl> & <dbl> & <dbl> & <dbl> & <dbl> & <dbl> & <dbl> & ⋯ & <dbl> & <dbl> & <dbl> & <dbl> & <dbl> & <dbl> & <dbl> & <dbl> & <dbl> & <dbl>\\\\\n",
       "\\hline\n",
       "\t 4.076898 & 16 & 0 & 0 & 0 & 11 & 7.0724 & 12 & 12 & 3 & ⋯ & 0 & 0 & 0 & 0 & 0 & 0 & 0 & 0 & 0 & 0\\\\\n",
       "\t 3.294138 &  9 & 0 & 0 & 0 & 19 & 4.7481 &  9 & 10 & 2 & ⋯ & 0 & 0 & 0 & 0 & 0 & 1 & 0 & 0 & 0 & 0\\\\\n",
       "\t 2.830896 &  9 & 0 & 1 & 0 & 22 & 1.1987 & 12 &  9 & 3 & ⋯ & 0 & 0 & 0 & 0 & 0 & 0 & 0 & 0 & 1 & 0\\\\\n",
       "\t 4.306459 & 16 & 0 & 0 & 0 & 13 & 8.9321 & 16 & 18 & 2 & ⋯ & 1 & 0 & 0 & 0 & 0 & 0 & 0 & 0 & 0 & 0\\\\\n",
       "\t 5.991465 & 16 & 0 & 1 & 0 & 15 & 2.2618 & 16 & 16 & 1 & ⋯ & 0 & 0 & 0 & 0 & 0 & 0 & 0 & 0 & 0 & 0\\\\\n",
       "\t 4.711924 & 16 & 0 & 0 & 0 & 14 & 8.9502 & 18 & 20 & 1 & ⋯ & 0 & 1 & 0 & 0 & 0 & 0 & 0 & 0 & 0 & 0\\\\\n",
       "\\end{tabular}\n"
      ],
      "text/markdown": [
       "\n",
       "A tibble: 6 × 994\n",
       "\n",
       "| lnw_2016 &lt;dbl&gt; | educ &lt;dbl&gt; | black &lt;dbl&gt; | hispanic &lt;dbl&gt; | other &lt;dbl&gt; | exp &lt;dbl&gt; | afqt &lt;dbl&gt; | mom_educ &lt;dbl&gt; | dad_educ &lt;dbl&gt; | yhea_100_1997 &lt;dbl&gt; | ⋯ ⋯ | _XPexp_13 &lt;dbl&gt; | _XPexp_14 &lt;dbl&gt; | _XPexp_16 &lt;dbl&gt; | _XPexp_17 &lt;dbl&gt; | _XPexp_18 &lt;dbl&gt; | _XPexp_19 &lt;dbl&gt; | _XPexp_20 &lt;dbl&gt; | _XPexp_21 &lt;dbl&gt; | _XPexp_22 &lt;dbl&gt; | _XPexp_23 &lt;dbl&gt; |\n",
       "|---|---|---|---|---|---|---|---|---|---|---|---|---|---|---|---|---|---|---|---|---|\n",
       "| 4.076898 | 16 | 0 | 0 | 0 | 11 | 7.0724 | 12 | 12 | 3 | ⋯ | 0 | 0 | 0 | 0 | 0 | 0 | 0 | 0 | 0 | 0 |\n",
       "| 3.294138 |  9 | 0 | 0 | 0 | 19 | 4.7481 |  9 | 10 | 2 | ⋯ | 0 | 0 | 0 | 0 | 0 | 1 | 0 | 0 | 0 | 0 |\n",
       "| 2.830896 |  9 | 0 | 1 | 0 | 22 | 1.1987 | 12 |  9 | 3 | ⋯ | 0 | 0 | 0 | 0 | 0 | 0 | 0 | 0 | 1 | 0 |\n",
       "| 4.306459 | 16 | 0 | 0 | 0 | 13 | 8.9321 | 16 | 18 | 2 | ⋯ | 1 | 0 | 0 | 0 | 0 | 0 | 0 | 0 | 0 | 0 |\n",
       "| 5.991465 | 16 | 0 | 1 | 0 | 15 | 2.2618 | 16 | 16 | 1 | ⋯ | 0 | 0 | 0 | 0 | 0 | 0 | 0 | 0 | 0 | 0 |\n",
       "| 4.711924 | 16 | 0 | 0 | 0 | 14 | 8.9502 | 18 | 20 | 1 | ⋯ | 0 | 1 | 0 | 0 | 0 | 0 | 0 | 0 | 0 | 0 |\n",
       "\n"
      ],
      "text/plain": [
       "  lnw_2016 educ black hispanic other exp afqt   mom_educ dad_educ yhea_100_1997\n",
       "1 4.076898 16   0     0        0     11  7.0724 12       12       3            \n",
       "2 3.294138  9   0     0        0     19  4.7481  9       10       2            \n",
       "3 2.830896  9   0     1        0     22  1.1987 12        9       3            \n",
       "4 4.306459 16   0     0        0     13  8.9321 16       18       2            \n",
       "5 5.991465 16   0     1        0     15  2.2618 16       16       1            \n",
       "6 4.711924 16   0     0        0     14  8.9502 18       20       1            \n",
       "  ⋯ _XPexp_13 _XPexp_14 _XPexp_16 _XPexp_17 _XPexp_18 _XPexp_19 _XPexp_20\n",
       "1 ⋯ 0         0         0         0         0         0         0        \n",
       "2 ⋯ 0         0         0         0         0         1         0        \n",
       "3 ⋯ 0         0         0         0         0         0         0        \n",
       "4 ⋯ 1         0         0         0         0         0         0        \n",
       "5 ⋯ 0         0         0         0         0         0         0        \n",
       "6 ⋯ 0         1         0         0         0         0         0        \n",
       "  _XPexp_21 _XPexp_22 _XPexp_23\n",
       "1 0         0         0        \n",
       "2 0         0         0        \n",
       "3 0         1         0        \n",
       "4 0         0         0        \n",
       "5 0         0         0        \n",
       "6 0         0         0        "
      ]
     },
     "metadata": {},
     "output_type": "display_data"
    }
   ],
   "source": [
    "head(nlsy)"
   ]
  },
  {
   "cell_type": "code",
   "execution_count": 4,
   "id": "1c589b4f",
   "metadata": {},
   "outputs": [],
   "source": [
    "#Polinomios de educacion\n",
    "\n",
    "nlsy <- nlsy  %>% mutate(educ2=educ^2,\n",
    "                         educ3=educ^3,\n",
    "                         educ4=educ^4,\n",
    "                         educ5=educ^5,\n",
    "                         educ6=educ^6,\n",
    "                         educ7=educ^7,\n",
    "                         educ8=educ^8,\n",
    "                         educ9=educ^9,\n",
    "                         educ10=educ^10\n",
    "                        )"
   ]
  },
  {
   "cell_type": "code",
   "execution_count": 6,
   "id": "a0365dc7",
   "metadata": {},
   "outputs": [
    {
     "data": {
      "text/html": [
       "<table class=\"dataframe\">\n",
       "<caption>A tibble: 6 × 1003</caption>\n",
       "<thead>\n",
       "\t<tr><th scope=col>lnw_2016</th><th scope=col>educ</th><th scope=col>black</th><th scope=col>hispanic</th><th scope=col>other</th><th scope=col>exp</th><th scope=col>afqt</th><th scope=col>mom_educ</th><th scope=col>dad_educ</th><th scope=col>yhea_100_1997</th><th scope=col>⋯</th><th scope=col>_XPexp_23</th><th scope=col>educ2</th><th scope=col>educ3</th><th scope=col>educ4</th><th scope=col>educ5</th><th scope=col>educ6</th><th scope=col>educ7</th><th scope=col>educ8</th><th scope=col>educ9</th><th scope=col>educ10</th></tr>\n",
       "\t<tr><th scope=col>&lt;dbl&gt;</th><th scope=col>&lt;dbl&gt;</th><th scope=col>&lt;dbl&gt;</th><th scope=col>&lt;dbl&gt;</th><th scope=col>&lt;dbl&gt;</th><th scope=col>&lt;dbl&gt;</th><th scope=col>&lt;dbl&gt;</th><th scope=col>&lt;dbl&gt;</th><th scope=col>&lt;dbl&gt;</th><th scope=col>&lt;dbl&gt;</th><th scope=col>⋯</th><th scope=col>&lt;dbl&gt;</th><th scope=col>&lt;dbl&gt;</th><th scope=col>&lt;dbl&gt;</th><th scope=col>&lt;dbl&gt;</th><th scope=col>&lt;dbl&gt;</th><th scope=col>&lt;dbl&gt;</th><th scope=col>&lt;dbl&gt;</th><th scope=col>&lt;dbl&gt;</th><th scope=col>&lt;dbl&gt;</th><th scope=col>&lt;dbl&gt;</th></tr>\n",
       "</thead>\n",
       "<tbody>\n",
       "\t<tr><td>4.076898</td><td>16</td><td>0</td><td>0</td><td>0</td><td>11</td><td>7.0724</td><td>12</td><td>12</td><td>3</td><td>⋯</td><td>0</td><td>256</td><td>4096</td><td>65536</td><td>1048576</td><td>16777216</td><td>268435456</td><td>4294967296</td><td>68719476736</td><td>1.099512e+12</td></tr>\n",
       "\t<tr><td>3.294138</td><td> 9</td><td>0</td><td>0</td><td>0</td><td>19</td><td>4.7481</td><td> 9</td><td>10</td><td>2</td><td>⋯</td><td>0</td><td> 81</td><td> 729</td><td> 6561</td><td>  59049</td><td>  531441</td><td>  4782969</td><td>  43046721</td><td>  387420489</td><td>3.486784e+09</td></tr>\n",
       "\t<tr><td>2.830896</td><td> 9</td><td>0</td><td>1</td><td>0</td><td>22</td><td>1.1987</td><td>12</td><td> 9</td><td>3</td><td>⋯</td><td>0</td><td> 81</td><td> 729</td><td> 6561</td><td>  59049</td><td>  531441</td><td>  4782969</td><td>  43046721</td><td>  387420489</td><td>3.486784e+09</td></tr>\n",
       "\t<tr><td>4.306459</td><td>16</td><td>0</td><td>0</td><td>0</td><td>13</td><td>8.9321</td><td>16</td><td>18</td><td>2</td><td>⋯</td><td>0</td><td>256</td><td>4096</td><td>65536</td><td>1048576</td><td>16777216</td><td>268435456</td><td>4294967296</td><td>68719476736</td><td>1.099512e+12</td></tr>\n",
       "\t<tr><td>5.991465</td><td>16</td><td>0</td><td>1</td><td>0</td><td>15</td><td>2.2618</td><td>16</td><td>16</td><td>1</td><td>⋯</td><td>0</td><td>256</td><td>4096</td><td>65536</td><td>1048576</td><td>16777216</td><td>268435456</td><td>4294967296</td><td>68719476736</td><td>1.099512e+12</td></tr>\n",
       "\t<tr><td>4.711924</td><td>16</td><td>0</td><td>0</td><td>0</td><td>14</td><td>8.9502</td><td>18</td><td>20</td><td>1</td><td>⋯</td><td>0</td><td>256</td><td>4096</td><td>65536</td><td>1048576</td><td>16777216</td><td>268435456</td><td>4294967296</td><td>68719476736</td><td>1.099512e+12</td></tr>\n",
       "</tbody>\n",
       "</table>\n"
      ],
      "text/latex": [
       "A tibble: 6 × 1003\n",
       "\\begin{tabular}{lllllllllllllllllllll}\n",
       " lnw\\_2016 & educ & black & hispanic & other & exp & afqt & mom\\_educ & dad\\_educ & yhea\\_100\\_1997 & ⋯ & \\_XPexp\\_23 & educ2 & educ3 & educ4 & educ5 & educ6 & educ7 & educ8 & educ9 & educ10\\\\\n",
       " <dbl> & <dbl> & <dbl> & <dbl> & <dbl> & <dbl> & <dbl> & <dbl> & <dbl> & <dbl> & ⋯ & <dbl> & <dbl> & <dbl> & <dbl> & <dbl> & <dbl> & <dbl> & <dbl> & <dbl> & <dbl>\\\\\n",
       "\\hline\n",
       "\t 4.076898 & 16 & 0 & 0 & 0 & 11 & 7.0724 & 12 & 12 & 3 & ⋯ & 0 & 256 & 4096 & 65536 & 1048576 & 16777216 & 268435456 & 4294967296 & 68719476736 & 1.099512e+12\\\\\n",
       "\t 3.294138 &  9 & 0 & 0 & 0 & 19 & 4.7481 &  9 & 10 & 2 & ⋯ & 0 &  81 &  729 &  6561 &   59049 &   531441 &   4782969 &   43046721 &   387420489 & 3.486784e+09\\\\\n",
       "\t 2.830896 &  9 & 0 & 1 & 0 & 22 & 1.1987 & 12 &  9 & 3 & ⋯ & 0 &  81 &  729 &  6561 &   59049 &   531441 &   4782969 &   43046721 &   387420489 & 3.486784e+09\\\\\n",
       "\t 4.306459 & 16 & 0 & 0 & 0 & 13 & 8.9321 & 16 & 18 & 2 & ⋯ & 0 & 256 & 4096 & 65536 & 1048576 & 16777216 & 268435456 & 4294967296 & 68719476736 & 1.099512e+12\\\\\n",
       "\t 5.991465 & 16 & 0 & 1 & 0 & 15 & 2.2618 & 16 & 16 & 1 & ⋯ & 0 & 256 & 4096 & 65536 & 1048576 & 16777216 & 268435456 & 4294967296 & 68719476736 & 1.099512e+12\\\\\n",
       "\t 4.711924 & 16 & 0 & 0 & 0 & 14 & 8.9502 & 18 & 20 & 1 & ⋯ & 0 & 256 & 4096 & 65536 & 1048576 & 16777216 & 268435456 & 4294967296 & 68719476736 & 1.099512e+12\\\\\n",
       "\\end{tabular}\n"
      ],
      "text/markdown": [
       "\n",
       "A tibble: 6 × 1003\n",
       "\n",
       "| lnw_2016 &lt;dbl&gt; | educ &lt;dbl&gt; | black &lt;dbl&gt; | hispanic &lt;dbl&gt; | other &lt;dbl&gt; | exp &lt;dbl&gt; | afqt &lt;dbl&gt; | mom_educ &lt;dbl&gt; | dad_educ &lt;dbl&gt; | yhea_100_1997 &lt;dbl&gt; | ⋯ ⋯ | _XPexp_23 &lt;dbl&gt; | educ2 &lt;dbl&gt; | educ3 &lt;dbl&gt; | educ4 &lt;dbl&gt; | educ5 &lt;dbl&gt; | educ6 &lt;dbl&gt; | educ7 &lt;dbl&gt; | educ8 &lt;dbl&gt; | educ9 &lt;dbl&gt; | educ10 &lt;dbl&gt; |\n",
       "|---|---|---|---|---|---|---|---|---|---|---|---|---|---|---|---|---|---|---|---|---|\n",
       "| 4.076898 | 16 | 0 | 0 | 0 | 11 | 7.0724 | 12 | 12 | 3 | ⋯ | 0 | 256 | 4096 | 65536 | 1048576 | 16777216 | 268435456 | 4294967296 | 68719476736 | 1.099512e+12 |\n",
       "| 3.294138 |  9 | 0 | 0 | 0 | 19 | 4.7481 |  9 | 10 | 2 | ⋯ | 0 |  81 |  729 |  6561 |   59049 |   531441 |   4782969 |   43046721 |   387420489 | 3.486784e+09 |\n",
       "| 2.830896 |  9 | 0 | 1 | 0 | 22 | 1.1987 | 12 |  9 | 3 | ⋯ | 0 |  81 |  729 |  6561 |   59049 |   531441 |   4782969 |   43046721 |   387420489 | 3.486784e+09 |\n",
       "| 4.306459 | 16 | 0 | 0 | 0 | 13 | 8.9321 | 16 | 18 | 2 | ⋯ | 0 | 256 | 4096 | 65536 | 1048576 | 16777216 | 268435456 | 4294967296 | 68719476736 | 1.099512e+12 |\n",
       "| 5.991465 | 16 | 0 | 1 | 0 | 15 | 2.2618 | 16 | 16 | 1 | ⋯ | 0 | 256 | 4096 | 65536 | 1048576 | 16777216 | 268435456 | 4294967296 | 68719476736 | 1.099512e+12 |\n",
       "| 4.711924 | 16 | 0 | 0 | 0 | 14 | 8.9502 | 18 | 20 | 1 | ⋯ | 0 | 256 | 4096 | 65536 | 1048576 | 16777216 | 268435456 | 4294967296 | 68719476736 | 1.099512e+12 |\n",
       "\n"
      ],
      "text/plain": [
       "  lnw_2016 educ black hispanic other exp afqt   mom_educ dad_educ yhea_100_1997\n",
       "1 4.076898 16   0     0        0     11  7.0724 12       12       3            \n",
       "2 3.294138  9   0     0        0     19  4.7481  9       10       2            \n",
       "3 2.830896  9   0     1        0     22  1.1987 12        9       3            \n",
       "4 4.306459 16   0     0        0     13  8.9321 16       18       2            \n",
       "5 5.991465 16   0     1        0     15  2.2618 16       16       1            \n",
       "6 4.711924 16   0     0        0     14  8.9502 18       20       1            \n",
       "  ⋯ _XPexp_23 educ2 educ3 educ4 educ5   educ6    educ7     educ8     \n",
       "1 ⋯ 0         256   4096  65536 1048576 16777216 268435456 4294967296\n",
       "2 ⋯ 0          81    729   6561   59049   531441   4782969   43046721\n",
       "3 ⋯ 0          81    729   6561   59049   531441   4782969   43046721\n",
       "4 ⋯ 0         256   4096  65536 1048576 16777216 268435456 4294967296\n",
       "5 ⋯ 0         256   4096  65536 1048576 16777216 268435456 4294967296\n",
       "6 ⋯ 0         256   4096  65536 1048576 16777216 268435456 4294967296\n",
       "  educ9       educ10      \n",
       "1 68719476736 1.099512e+12\n",
       "2   387420489 3.486784e+09\n",
       "3   387420489 3.486784e+09\n",
       "4 68719476736 1.099512e+12\n",
       "5 68719476736 1.099512e+12\n",
       "6 68719476736 1.099512e+12"
      ]
     },
     "metadata": {},
     "output_type": "display_data"
    }
   ],
   "source": [
    "head(nlsy)"
   ]
  },
  {
   "cell_type": "code",
   "execution_count": null,
   "id": "c209a0c9",
   "metadata": {},
   "outputs": [],
   "source": [
    "reg<- lm(lnw_2016~educ+ educ2 + educ3 + educ4 + educ5 + educ6 + educ7 + \n",
    "    educ8 + educ9 + educ10,   data = nlsy)\n",
    "#reg <- lm(lnw_2016 ~ educ +I(educ^2)  +I(educ^3)  +I(educ^4)  +I(educ^5)  +I(educ^6)  +I(educ^7) \n",
    "#  +I(educ^8)  +I(educ^9)  +I(educ^10),   data = nlsy)\n",
    "summary(reg)"
   ]
  },
  {
   "cell_type": "code",
   "execution_count": null,
   "id": "50ca8d07",
   "metadata": {},
   "outputs": [],
   "source": [
    "stargazer(reg,type=\"text\")"
   ]
  },
  {
   "cell_type": "code",
   "execution_count": null,
   "id": "18c41cbd",
   "metadata": {},
   "outputs": [],
   "source": [
    "nlsy$yhat= predict(reg)"
   ]
  },
  {
   "cell_type": "code",
   "execution_count": null,
   "id": "a5d8cb0f",
   "metadata": {},
   "outputs": [],
   "source": [
    "# plot predicted values\n",
    "summ = nlsy %>%  \n",
    "  group_by(\n",
    "    educ, educ2, educ3, educ4, educ5, \n",
    "    educ6, educ7, educ8, educ9, educ10\n",
    "  ) %>%  \n",
    "  summarize(\n",
    "    mean_y = mean(lnw_2016),\n",
    "    yhat_reg = mean(yhat), .groups=\"drop\"\n",
    "  ) \n",
    "ggplot(summ) + \n",
    "  geom_point(\n",
    "    aes(x = educ, y = mean_y),\n",
    "    color = \"blue\", size = 2\n",
    "  ) + \n",
    "  geom_line(\n",
    "    aes(x = educ, y = yhat_reg), \n",
    "    color = \"green\", size = 1.5\n",
    "  ) + \n",
    "  labs(\n",
    "    title = \"ln Wages by Education in the NLSY\",\n",
    "    x = \"Years of Schooling\",\n",
    "    y = \"ln Wages\"\n",
    "  ) +\n",
    "  theme_bw()\n"
   ]
  },
  {
   "cell_type": "markdown",
   "id": "57fd77cb",
   "metadata": {},
   "source": [
    "As we can see, least squares linear regression can approximate any continuous function and can certainly be used for prediction. Include a rich enough set of transformations, and OLS predictions will yield unbiased estimates of the true ideal predictor, the conditional expectation function. But these estimates will be quite noisy. "
   ]
  },
  {
   "cell_type": "markdown",
   "id": "10a625cf",
   "metadata": {},
   "source": [
    "# Example 2"
   ]
  },
  {
   "cell_type": "markdown",
   "id": "e06db823",
   "metadata": {},
   "source": [
    "\n",
    "Two Models\n",
    " \n",
    " (1) $y=\\beta_1 X_1 + u_1 $\n",
    " \n",
    " (2) $y=\\beta_1 X_1 + \\beta_2 X_2 + u_2$\n",
    "\n",
    " If model (1) is true then estimating the larger model (2) leads to inefficient though unbiased estimators due to unnecessarily including $X_2$.\n",
    "\n",
    "If model (2) holds, estimating the smaller model (1) leads to a more efficient but biased estimate if $X_1$ is also correlated with the omitted regressor $X_2$. \n",
    " "
   ]
  },
  {
   "cell_type": "markdown",
   "id": "50052d48",
   "metadata": {},
   "source": [
    "## Case 1"
   ]
  },
  {
   "cell_type": "markdown",
   "id": "31983cb2",
   "metadata": {},
   "source": [
    "Let's show this: Suppose Model (1) is True, i.e. wage depends only on schooling but not ability"
   ]
  },
  {
   "cell_type": "code",
   "execution_count": null,
   "id": "3ad6a685",
   "metadata": {},
   "outputs": [],
   "source": [
    "p_load(\"fabricatr\")\n",
    "\n",
    "#for reproducibility\n",
    "set.seed(101010)\n",
    "\n",
    "\n",
    "db1 <- fabricate(\n",
    "  N = 100000,\n",
    "  ability=rnorm(N,mean=.5,sd=2),\n",
    "  schooling = round(runif(N, 2, 14)),\n",
    "  logwage =rnorm(N, mean=7+.15*schooling, sd=20)\n",
    ")"
   ]
  },
  {
   "cell_type": "code",
   "execution_count": null,
   "id": "f08e9a3d",
   "metadata": {},
   "outputs": [],
   "source": [
    "reg1<-lm(logwage~schooling,db1)\n",
    "\n",
    "reg2<-lm(logwage~schooling+ability,db1)\n",
    "\n",
    "stargazer(reg1,reg2,type=\"text\")"
   ]
  },
  {
   "cell_type": "code",
   "execution_count": null,
   "id": "bd91e6ff",
   "metadata": {},
   "outputs": [],
   "source": [
    "db1<- db1 %>% mutate(yhat_reg1=predict(reg1),\n",
    "                     yhat_reg2=predict(reg2))\n"
   ]
  },
  {
   "cell_type": "code",
   "execution_count": null,
   "id": "b3a6a538",
   "metadata": {},
   "outputs": [],
   "source": [
    "var(db1$yhat_reg1)\n"
   ]
  },
  {
   "cell_type": "code",
   "execution_count": null,
   "id": "940d1e33",
   "metadata": {},
   "outputs": [],
   "source": [
    "var(db1$yhat_reg2)"
   ]
  },
  {
   "cell_type": "markdown",
   "id": "d12274dd",
   "metadata": {},
   "source": [
    "Estimating the larger model (2) leads to inefficient though unbiased estimators due to unnecessarily including $X_2$."
   ]
  },
  {
   "cell_type": "markdown",
   "id": "e806717f",
   "metadata": {},
   "source": [
    "## Case 2\n",
    "\n",
    "Now suppose Model (2) is True, i.e. wage depends on schooling AND ability, and they are correlated"
   ]
  },
  {
   "cell_type": "code",
   "execution_count": null,
   "id": "a6882591",
   "metadata": {},
   "outputs": [],
   "source": [
    "db2 <- fabricate(\n",
    "  N = 100000,\n",
    "  ability=rnorm(N,mean=.5,sd=2),\n",
    "  schooling = round(runif(N, 2, 14)),\n",
    "  schooling = round(ceiling(schooling+1*ability)),\n",
    "  logwage =rnorm(N, mean=7+.15*schooling+.25*ability, sd=20)\n",
    ")"
   ]
  },
  {
   "cell_type": "code",
   "execution_count": null,
   "id": "2527abf8",
   "metadata": {},
   "outputs": [],
   "source": [
    "reg3<-lm(logwage~schooling,db2)\n",
    "\n",
    "reg4<-lm(logwage~schooling+ability,db2)\n",
    "\n",
    "stargazer(reg3,reg4,type=\"text\")"
   ]
  },
  {
   "cell_type": "code",
   "execution_count": null,
   "id": "4ca94091",
   "metadata": {},
   "outputs": [],
   "source": [
    "db2$yhat_reg3<-predict(reg3)\n",
    "\n",
    "db2$yhat_reg4<-predict(reg4)\n"
   ]
  },
  {
   "cell_type": "code",
   "execution_count": null,
   "id": "7e962397",
   "metadata": {},
   "outputs": [],
   "source": [
    "var(db2$yhat_reg3)\n"
   ]
  },
  {
   "cell_type": "code",
   "execution_count": null,
   "id": "968ded1a",
   "metadata": {},
   "outputs": [],
   "source": [
    "var(db2$yhat_reg4)"
   ]
  },
  {
   "cell_type": "markdown",
   "id": "12e9e2c2",
   "metadata": {},
   "source": [
    "Estimating the smaller model (1) leads to a more efficient but biased estimate when $X_1$ is also correlated with the omitted regressor $X_2$. "
   ]
  }
 ],
 "metadata": {
  "kernelspec": {
   "display_name": "R",
   "language": "R",
   "name": "ir"
  },
  "language_info": {
   "codemirror_mode": "r",
   "file_extension": ".r",
   "mimetype": "text/x-r-source",
   "name": "R",
   "pygments_lexer": "r",
   "version": "4.2.2"
  },
  "toc": {
   "base_numbering": 1,
   "nav_menu": {},
   "number_sections": true,
   "sideBar": true,
   "skip_h1_title": false,
   "title_cell": "Table of Contents",
   "title_sidebar": "Contents",
   "toc_cell": false,
   "toc_position": {},
   "toc_section_display": true,
   "toc_window_display": false
  }
 },
 "nbformat": 4,
 "nbformat_minor": 5
}
