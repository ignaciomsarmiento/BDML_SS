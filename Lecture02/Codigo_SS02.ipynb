{
 "cells": [
  {
   "cell_type": "markdown",
   "id": "e53dc4f6",
   "metadata": {},
   "source": [
    "<div >\n",
    "<img src = \"../../banner.jpg\" />\n",
    "</div>"
   ]
  },
  {
   "cell_type": "markdown",
   "id": "32d87f3f",
   "metadata": {},
   "source": [
    "# Linear Regression for Prediction\n",
    "\n",
    "Model \n",
    "\n",
    "$$\n",
    "y= f(X) + u\n",
    "$$\n",
    "\n",
    "$$\n",
    "y= X\\beta + u\n",
    "$$\n",
    "\n",
    "Outcome to be predicted: $Y_i$\n",
    "\n",
    "> *example:* a worker's log wage\n",
    "\n",
    "Characteristics (aka **features**): $X_i=\\left(X_{1i},\\ldots,X_{pi}\\right)'$\n",
    "\n",
    "> *example:* education, age, state of birth, parents' education, cognitive ability, family background\n"
   ]
  },
  {
   "cell_type": "code",
   "execution_count": 1,
   "id": "d86d5977",
   "metadata": {},
   "outputs": [
    {
     "name": "stderr",
     "output_type": "stream",
     "text": [
      "Loading required package: pacman\n",
      "\n"
     ]
    }
   ],
   "source": [
    "#Load Packages\n",
    "require(\"pacman\")\n",
    "p_load(\"tidyverse\",\"stargazer\")\n"
   ]
  },
  {
   "cell_type": "code",
   "execution_count": 2,
   "id": "0f4546c8",
   "metadata": {},
   "outputs": [
    {
     "name": "stderr",
     "output_type": "stream",
     "text": [
      "\u001b[1mRows: \u001b[22m\u001b[34m1266\u001b[39m \u001b[1mColumns: \u001b[22m\u001b[34m994\u001b[39m\n",
      "\u001b[36m──\u001b[39m \u001b[1mColumn specification\u001b[22m \u001b[36m────────────────────────────────────────────────────────\u001b[39m\n",
      "\u001b[1mDelimiter:\u001b[22m \",\"\n",
      "\u001b[32mdbl\u001b[39m (994): lnw_2016, educ, black, hispanic, other, exp, afqt, mom_educ, dad_...\n",
      "\n",
      "\u001b[36mℹ\u001b[39m Use `spec()` to retrieve the full column specification for this data.\n",
      "\u001b[36mℹ\u001b[39m Specify the column types or set `show_col_types = FALSE` to quiet this message.\n"
     ]
    }
   ],
   "source": [
    "nlsy = read_csv('https://raw.githubusercontent.com/ignaciomsarmiento/datasets/main/nlsy97.csv')\n",
    "nlsy = nlsy  %>%   drop_na(educ)"
   ]
  },
  {
   "cell_type": "code",
   "execution_count": 3,
   "id": "1c589b4f",
   "metadata": {},
   "outputs": [],
   "source": [
    "nlsy <- nlsy  %>% mutate(educ2=educ^2,\n",
    "                         educ3=educ^3,\n",
    "                         educ4=educ^4,\n",
    "                         educ5=educ^5,\n",
    "                         educ6=educ^6,\n",
    "                         educ7=educ^7,\n",
    "                         educ8=educ^8,\n",
    "                         educ9=educ^9,\n",
    "                         educ10=educ^10,\n",
    "                        )"
   ]
  },
  {
   "cell_type": "code",
   "execution_count": 4,
   "id": "c209a0c9",
   "metadata": {},
   "outputs": [
    {
     "data": {
      "text/plain": [
       "\n",
       "Call:\n",
       "lm(formula = lnw_2016 ~ educ + educ2 + educ3 + educ4 + educ5 + \n",
       "    educ6 + educ7 + educ8 + educ9 + educ10, data = nlsy)\n",
       "\n",
       "Residuals:\n",
       "    Min      1Q  Median      3Q     Max \n",
       "-4.9389 -0.4027 -0.0379  0.3567  4.4390 \n",
       "\n",
       "Coefficients:\n",
       "              Estimate Std. Error t value Pr(>|t|)\n",
       "(Intercept)  1.511e+05  1.298e+05   1.164    0.245\n",
       "educ        -1.191e+05  1.010e+05  -1.179    0.239\n",
       "educ2        4.178e+04  3.501e+04   1.193    0.233\n",
       "educ3       -8.586e+03  7.114e+03  -1.207    0.228\n",
       "educ4        1.145e+03  9.388e+02   1.220    0.223\n",
       "educ5       -1.035e+02  8.410e+01  -1.231    0.219\n",
       "educ6        6.428e+00  5.181e+00   1.241    0.215\n",
       "educ7       -2.707e-01  2.168e-01  -1.249    0.212\n",
       "educ8        7.406e-03  5.896e-03   1.256    0.209\n",
       "educ9       -1.188e-04  9.418e-05  -1.261    0.207\n",
       "educ10       8.492e-07  6.711e-07   1.265    0.206\n",
       "\n",
       "Residual standard error: 0.8389 on 1255 degrees of freedom\n",
       "Multiple R-squared:  0.0759,\tAdjusted R-squared:  0.06854 \n",
       "F-statistic: 10.31 on 10 and 1255 DF,  p-value: < 2.2e-16\n"
      ]
     },
     "metadata": {},
     "output_type": "display_data"
    }
   ],
   "source": [
    "reg<- lm(lnw_2016~educ+ educ2 + educ3 + educ4 + educ5 + educ6 + educ7 + \n",
    "    educ8 + educ9 + educ10,   data = nlsy)\n",
    "#reg <- lm(lnw_2016 ~ educ +I(educ^2)  +I(educ^3)  +I(educ^4)  +I(educ^5)  +I(educ^6)  +I(educ^7) \n",
    "#  +I(educ^8)  +I(educ^9)  +I(educ^10),   data = nlsy)\n",
    "summary(reg)"
   ]
  },
  {
   "cell_type": "code",
   "execution_count": 5,
   "id": "50ca8d07",
   "metadata": {},
   "outputs": [
    {
     "name": "stdout",
     "output_type": "stream",
     "text": [
      "\n",
      "===============================================\n",
      "                        Dependent variable:    \n",
      "                    ---------------------------\n",
      "                             lnw_2016          \n",
      "-----------------------------------------------\n",
      "educ                       -119,110.500        \n",
      "                           (101,045.400)       \n",
      "                                               \n",
      "educ2                       41,779.810         \n",
      "                           (35,011.930)        \n",
      "                                               \n",
      "educ3                       -8,585.815         \n",
      "                            (7,113.640)        \n",
      "                                               \n",
      "educ4                        1,144.828         \n",
      "                             (938.762)         \n",
      "                                               \n",
      "educ5                        -103.507          \n",
      "                             (84.098)          \n",
      "                                               \n",
      "educ6                          6.428           \n",
      "                              (5.181)          \n",
      "                                               \n",
      "educ7                         -0.271           \n",
      "                              (0.217)          \n",
      "                                               \n",
      "educ8                          0.007           \n",
      "                              (0.006)          \n",
      "                                               \n",
      "educ9                         -0.0001          \n",
      "                             (0.0001)          \n",
      "                                               \n",
      "educ10                        0.00000          \n",
      "                             (0.00000)         \n",
      "                                               \n",
      "Constant                    151,073.300        \n",
      "                           (129,824.900)       \n",
      "                                               \n",
      "-----------------------------------------------\n",
      "Observations                   1,266           \n",
      "R2                             0.076           \n",
      "Adjusted R2                    0.069           \n",
      "Residual Std. Error      0.839 (df = 1255)     \n",
      "F Statistic          10.308*** (df = 10; 1255) \n",
      "===============================================\n",
      "Note:               *p<0.1; **p<0.05; ***p<0.01\n"
     ]
    }
   ],
   "source": [
    "stargazer(reg,type=\"text\")"
   ]
  },
  {
   "cell_type": "code",
   "execution_count": 6,
   "id": "18c41cbd",
   "metadata": {},
   "outputs": [],
   "source": [
    "nlsy$yhat= predict(reg)"
   ]
  },
  {
   "cell_type": "code",
   "execution_count": 7,
   "id": "a5d8cb0f",
   "metadata": {},
   "outputs": [
    {
     "data": {
      "image/png": "[encoded data removed]",
      "text/plain": [
       "plot without title"
      ]
     },
     "metadata": {
      "image/png": {
       "height": 420,
       "width": 420
      }
     },
     "output_type": "display_data"
    }
   ],
   "source": [
    "# plot predicted values\n",
    "summ = nlsy %>%  \n",
    "  group_by(\n",
    "    educ, educ2, educ3, educ4, educ5, \n",
    "    educ6, educ7, educ8, educ9, educ10\n",
    "  ) %>%  \n",
    "  summarize(\n",
    "    mean_y = mean(lnw_2016),\n",
    "    yhat_reg = mean(yhat), .groups=\"drop\"\n",
    "  ) \n",
    "ggplot(summ) + \n",
    "  geom_point(\n",
    "    aes(x = educ, y = mean_y),\n",
    "    color = \"blue\", size = 2\n",
    "  ) + \n",
    "  geom_line(\n",
    "    aes(x = educ, y = yhat_reg), \n",
    "    color = \"green\", size = 1.5\n",
    "  ) + \n",
    "  labs(\n",
    "    title = \"ln Wages by Education in the NLSY\",\n",
    "    x = \"Years of Schooling\",\n",
    "    y = \"ln Wages\"\n",
    "  ) +\n",
    "  theme_bw()\n"
   ]
  },
  {
   "cell_type": "markdown",
   "id": "57fd77cb",
   "metadata": {},
   "source": [
    "As we can see, least squares linear regression can approximate any continuous function and can certainly be used for prediction. Include a rich enough set of transformations, and OLS predictions will yield unbiased estimates of the true ideal predictor, the conditional expectation function. But these estimates will be quite noisy. "
   ]
  },
  {
   "cell_type": "markdown",
   "id": "10a625cf",
   "metadata": {},
   "source": [
    "# Example 2"
   ]
  },
  {
   "cell_type": "markdown",
   "id": "e06db823",
   "metadata": {},
   "source": [
    "\n",
    "Two Models\n",
    " \n",
    " (1) $y=\\beta_1 X_1 + u_1 $\n",
    " \n",
    " (2) $y=\\beta_1 X_1 + \\beta_2 X_2 + u_2$\n",
    "\n",
    " If model (1) is true then estimating the larger model (2) leads to inefficient though unbiased estimators due to unnecessarily including $X_2$.\n",
    "\n",
    "If model (2) holds, estimating the smaller model (1) leads to a more efficient but biased estimate if $X_1$ is also correlated with the omitted regressor $X_2$. \n",
    " "
   ]
  },
  {
   "cell_type": "markdown",
   "id": "50052d48",
   "metadata": {},
   "source": [
    "## Case 1"
   ]
  },
  {
   "cell_type": "markdown",
   "id": "31983cb2",
   "metadata": {},
   "source": [
    "Let's show this: Suppose Model (1) is True, i.e. wage depends only on schooling but not ability"
   ]
  },
  {
   "cell_type": "code",
   "execution_count": 8,
   "id": "3ad6a685",
   "metadata": {},
   "outputs": [],
   "source": [
    "p_load(\"fabricatr\")\n",
    "\n",
    "#for reproducibility\n",
    "set.seed(101010)\n",
    "\n",
    "\n",
    "db1 <- fabricate(\n",
    "  N = 100000,\n",
    "  ability=rnorm(N,mean=.5,sd=2),\n",
    "  schooling = round(runif(N, 2, 14)),\n",
    "  logwage =rnorm(N, mean=7+.15*schooling, sd=20)\n",
    ")"
   ]
  },
  {
   "cell_type": "code",
   "execution_count": 9,
   "id": "f08e9a3d",
   "metadata": {},
   "outputs": [
    {
     "name": "stdout",
     "output_type": "stream",
     "text": [
      "\n",
      "=======================================================================\n",
      "                                    Dependent variable:                \n",
      "                    ---------------------------------------------------\n",
      "                                          logwage                      \n",
      "                               (1)                       (2)           \n",
      "-----------------------------------------------------------------------\n",
      "schooling                   0.175***                  0.175***         \n",
      "                             (0.018)                   (0.018)         \n",
      "                                                                       \n",
      "ability                                                -0.018          \n",
      "                                                       (0.032)         \n",
      "                                                                       \n",
      "Constant                    6.829***                  6.838***         \n",
      "                             (0.158)                   (0.159)         \n",
      "                                                                       \n",
      "-----------------------------------------------------------------------\n",
      "Observations                 100,000                   100,000         \n",
      "R2                            0.001                     0.001          \n",
      "Adjusted R2                   0.001                     0.001          \n",
      "Residual Std. Error    19.995 (df = 99998)       19.995 (df = 99997)   \n",
      "F Statistic         92.809*** (df = 1; 99998) 46.562*** (df = 2; 99997)\n",
      "=======================================================================\n",
      "Note:                                       *p<0.1; **p<0.05; ***p<0.01\n"
     ]
    }
   ],
   "source": [
    "reg1<-lm(logwage~schooling,db1)\n",
    "\n",
    "reg2<-lm(logwage~schooling+ability,db1)\n",
    "\n",
    "stargazer(reg1,reg2,type=\"text\")"
   ]
  },
  {
   "cell_type": "code",
   "execution_count": 10,
   "id": "bd91e6ff",
   "metadata": {},
   "outputs": [],
   "source": [
    "db1<- db1 %>% mutate(yhat_reg1=predict(reg1),\n",
    "                     yhat_reg2=predict(reg2))\n"
   ]
  },
  {
   "cell_type": "code",
   "execution_count": 11,
   "id": "b3a6a538",
   "metadata": {},
   "outputs": [
    {
     "data": {
      "text/html": [
       "0.371037708907766"
      ],
      "text/latex": [
       "0.371037708907766"
      ],
      "text/markdown": [
       "0.371037708907766"
      ],
      "text/plain": [
       "[1] 0.3710377"
      ]
     },
     "metadata": {},
     "output_type": "display_data"
    }
   ],
   "source": [
    "var(db1$yhat_reg1)\n"
   ]
  },
  {
   "cell_type": "code",
   "execution_count": 12,
   "id": "940d1e33",
   "metadata": {},
   "outputs": [
    {
     "data": {
      "text/html": [
       "0.372300855912767"
      ],
      "text/latex": [
       "0.372300855912767"
      ],
      "text/markdown": [
       "0.372300855912767"
      ],
      "text/plain": [
       "[1] 0.3723009"
      ]
     },
     "metadata": {},
     "output_type": "display_data"
    }
   ],
   "source": [
    "var(db1$yhat_reg2)"
   ]
  },
  {
   "cell_type": "markdown",
   "id": "d12274dd",
   "metadata": {},
   "source": [
    "Estimating the larger model (2) leads to inefficient though unbiased estimators due to unnecessarily including $X_2$."
   ]
  },
  {
   "cell_type": "markdown",
   "id": "e806717f",
   "metadata": {},
   "source": [
    "## Case 2\n",
    "\n",
    "Now suppose Model (2) is True, i.e. wage depends on schooling AND ability, and they are correlated"
   ]
  },
  {
   "cell_type": "code",
   "execution_count": 13,
   "id": "a6882591",
   "metadata": {},
   "outputs": [],
   "source": [
    "db2 <- fabricate(\n",
    "  N = 100000,\n",
    "  ability=rnorm(N,mean=.5,sd=2),\n",
    "  schooling = round(runif(N, 2, 14)),\n",
    "  schooling = round(ceiling(schooling+1*ability)),\n",
    "  logwage =rnorm(N, mean=7+.15*schooling+.25*ability, sd=20)\n",
    ")"
   ]
  },
  {
   "cell_type": "code",
   "execution_count": 14,
   "id": "2527abf8",
   "metadata": {},
   "outputs": [
    {
     "name": "stdout",
     "output_type": "stream",
     "text": [
      "\n",
      "=========================================================================\n",
      "                                     Dependent variable:                 \n",
      "                    -----------------------------------------------------\n",
      "                                           logwage                       \n",
      "                               (1)                        (2)            \n",
      "-------------------------------------------------------------------------\n",
      "schooling                    0.254***                   0.179***         \n",
      "                             (0.016)                    (0.018)          \n",
      "                                                                         \n",
      "ability                                                 0.300***         \n",
      "                                                        (0.036)          \n",
      "                                                                         \n",
      "Constant                     6.158***                   6.675***         \n",
      "                             (0.154)                    (0.167)          \n",
      "                                                                         \n",
      "-------------------------------------------------------------------------\n",
      "Observations                 100,000                    100,000          \n",
      "R2                            0.003                      0.003           \n",
      "Adjusted R2                   0.003                      0.003           \n",
      "Residual Std. Error    19.999 (df = 99998)        19.992 (df = 99997)    \n",
      "F Statistic         262.561*** (df = 1; 99998) 165.251*** (df = 2; 99997)\n",
      "=========================================================================\n",
      "Note:                                         *p<0.1; **p<0.05; ***p<0.01\n"
     ]
    }
   ],
   "source": [
    "reg3<-lm(logwage~schooling,db2)\n",
    "\n",
    "reg4<-lm(logwage~schooling+ability,db2)\n",
    "\n",
    "stargazer(reg3,reg4,type=\"text\")"
   ]
  },
  {
   "cell_type": "code",
   "execution_count": 15,
   "id": "4ca94091",
   "metadata": {},
   "outputs": [],
   "source": [
    "db2$yhat_reg3<-predict(reg3)\n",
    "\n",
    "db2$yhat_reg4<-predict(reg4)\n"
   ]
  },
  {
   "cell_type": "code",
   "execution_count": 16,
   "id": "7e962397",
   "metadata": {},
   "outputs": [
    {
     "data": {
      "text/html": [
       "1.0501326571746"
      ],
      "text/latex": [
       "1.0501326571746"
      ],
      "text/markdown": [
       "1.0501326571746"
      ],
      "text/plain": [
       "[1] 1.050133"
      ]
     },
     "metadata": {},
     "output_type": "display_data"
    }
   ],
   "source": [
    "var(db2$yhat_reg3)\n"
   ]
  },
  {
   "cell_type": "code",
   "execution_count": 17,
   "id": "968ded1a",
   "metadata": {},
   "outputs": [
    {
     "data": {
      "text/html": [
       "1.32098382498282"
      ],
      "text/latex": [
       "1.32098382498282"
      ],
      "text/markdown": [
       "1.32098382498282"
      ],
      "text/plain": [
       "[1] 1.320984"
      ]
     },
     "metadata": {},
     "output_type": "display_data"
    }
   ],
   "source": [
    "var(db2$yhat_reg4)"
   ]
  },
  {
   "cell_type": "markdown",
   "id": "12e9e2c2",
   "metadata": {},
   "source": [
    "Estimating the smaller model (1) leads to a more efficient but biased estimate when $X_1$ is also correlated with the omitted regressor $X_2$. "
   ]
  }
 ],
 "metadata": {
  "kernelspec": {
   "display_name": "R",
   "language": "R",
   "name": "ir"
  },
  "language_info": {
   "codemirror_mode": "r",
   "file_extension": ".r",
   "mimetype": "text/x-r-source",
   "name": "R",
   "pygments_lexer": "r",
   "version": "4.2.2"
  },
  "toc": {
   "base_numbering": 1,
   "nav_menu": {},
   "number_sections": true,
   "sideBar": true,
   "skip_h1_title": false,
   "title_cell": "Table of Contents",
   "title_sidebar": "Contents",
   "toc_cell": false,
   "toc_position": {},
   "toc_section_display": true,
   "toc_window_display": false
  }
 },
 "nbformat": 4,
 "nbformat_minor": 5
}
