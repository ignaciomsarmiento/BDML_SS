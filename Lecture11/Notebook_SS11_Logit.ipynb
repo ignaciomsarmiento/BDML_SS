{
 "cells": [
  {
   "cell_type": "markdown",
   "id": "340f63f6-93da-4633-9f43-43927ea8d65c",
   "metadata": {},
   "source": [
    "<div >\n",
    "<img src = \"../banner.jpg\" />\n",
    "</div>"
   ]
  },
  {
   "cell_type": "markdown",
   "id": "eb10668c",
   "metadata": {},
   "source": [
    "<a target=\"_blank\" href=\"https://colab.research.google.com/github/ignaciomsarmiento/BDML_SS/blob/main/Lecture11/Notebook_SS11_Logit.ipynb\">\n",
    "  <img src=\"https://colab.research.google.com/assets/colab-badge.svg\" alt=\"Open In Colab\"/>\n",
    "</a>\n"
   ]
  },
  {
   "cell_type": "markdown",
   "id": "d8e20450",
   "metadata": {},
   "source": [
    "# Classification"
   ]
  },
  {
   "cell_type": "markdown",
   "id": "a5c24b15",
   "metadata": {},
   "source": [
    "To work through the steps of probability-based classification, we’ll use a real dataset on loans and credit from a set of local lenders in Germany (taken from the UC Irvine Machine Learning Repository and cleaned for our purposes). \n",
    "\n",
    "Credit scoring is a classic problem of classification, and it remains one of the big application domains for ML: use previous loan results (default versus payment) to train a model that can predict the performance of potential new loans.\n",
    "\n",
    "\\begin{align}\n",
    "Default=f(x) + u\n",
    "\\end{align}\n",
    "\n",
    "where $Default=I(Default=1)$\n",
    "\n"
   ]
  },
  {
   "cell_type": "code",
   "execution_count": null,
   "id": "592ee382",
   "metadata": {},
   "outputs": [],
   "source": [
    "#Cargar librerías \n",
    "require(\"pacman\")\n",
    "p_load(tidyverse)\n",
    "set.seed(1011)"
   ]
  },
  {
   "cell_type": "code",
   "execution_count": null,
   "id": "8795384b",
   "metadata": {},
   "outputs": [],
   "source": [
    "#Leer los datos \n",
    "credit <- readRDS(url(\"https://github.com/ignaciomsarmiento/datasets/blob/main/credit_class.rds?raw=true\"))\n",
    "head(credit)"
   ]
  },
  {
   "cell_type": "code",
   "execution_count": null,
   "id": "f6c8086e",
   "metadata": {},
   "outputs": [],
   "source": [
    "prop.table(table(credit$foreign))*100"
   ]
  },
  {
   "cell_type": "code",
   "execution_count": null,
   "id": "2548afe4",
   "metadata": {},
   "outputs": [],
   "source": [
    "default<-credit$Default  #defino ahora va a servir después\n",
    "\n",
    "#mutación de factores\n",
    "credit<-credit %>% mutate(Default=factor(Default,levels=c(0,1),labels=c(\"No\",\"Si\")),\n",
    "                          history=factor(history,levels=c(\"good\",\"poor\",\"terrible\"),labels=c(\"buena\",\"mala\",\"terrible\")),\n",
    "                          foreign=factor(foreign,levels=c(\"foreign\",\"german\"),labels=c(\"extranjero\",\"aleman\")),\n",
    "                          purpose=factor(purpose,levels=c(\"newcar\",\"usedcar\",\"goods/repair\",\"edu\", \"biz\" ),labels=c(\"auto_nuevo\",\"auto_usado\",\"bienes\",\"educacion\",\"negocios\")))         "
   ]
  },
  {
   "cell_type": "code",
   "execution_count": null,
   "id": "98f31ae9",
   "metadata": {},
   "outputs": [],
   "source": [
    "head(credit)"
   ]
  },
  {
   "cell_type": "code",
   "execution_count": null,
   "id": "c0fd971c",
   "metadata": {},
   "outputs": [],
   "source": [
    "table(credit$foreign)"
   ]
  },
  {
   "cell_type": "code",
   "execution_count": null,
   "id": "672c1e5d",
   "metadata": {},
   "outputs": [],
   "source": [
    "## plot a mosaic\n",
    "plot(Default ~ history, data=credit, col=c(8,2), ylab=\"Default\") ## surprise!\n",
    "## the dangers of choice-based sampling!  "
   ]
  },
  {
   "cell_type": "markdown",
   "id": "3629ef9e",
   "metadata": {},
   "source": [
    "## Estimación Logit\n",
    "\n",
    "\\begin{align}\n",
    "p_i &=\\frac{e^{X_i\\beta}}{1+e^{X_i\\beta}}\n",
    "\\end{align}\n"
   ]
  },
  {
   "cell_type": "code",
   "execution_count": null,
   "id": "7076a869",
   "metadata": {},
   "outputs": [],
   "source": [
    "mylogit <- glm(Default~., data = credit, family = \"binomial\")\n",
    "summary(mylogit,type=\"text\")"
   ]
  },
  {
   "cell_type": "markdown",
   "id": "71975cb3",
   "metadata": {},
   "source": [
    "## Prediction\n",
    "\n",
    "\n",
    "\\begin{align}\n",
    "\\hat{p}_i &=\\frac{e^{X_i\\hat{\\beta}}}{1+e^{X_i\\hat{\\beta}}}\n",
    "\\end{align}"
   ]
  },
  {
   "cell_type": "code",
   "execution_count": null,
   "id": "49bf83ea",
   "metadata": {},
   "outputs": [],
   "source": [
    "\n",
    "credit<- credit  %>% mutate(prob_hat=predict(mylogit,newdata = credit, type = \"response\")) #type = \"response\" gives the predicted probabilities.\n",
    "\n",
    "head(credit  %>% select(Default,prob_hat))\n"
   ]
  },
  {
   "cell_type": "markdown",
   "id": "64ab05f8",
   "metadata": {},
   "source": [
    "## Classification \n",
    "\n",
    "\\begin{align}\n",
    "\\hat{Y}_i= 1[\\hat{p}_i >0.5]\n",
    "\\end{align}"
   ]
  },
  {
   "cell_type": "code",
   "execution_count": null,
   "id": "8d189012",
   "metadata": {},
   "outputs": [],
   "source": [
    "rule <- 1/2 # Bayes Rule\n",
    "\n",
    "credit <-  credit  %>% mutate(Default_hat=ifelse(prob_hat>rule,1,0))    ## predicted class labels\n",
    "\n",
    "head(credit  %>% select(Default,prob_hat,Default_hat))"
   ]
  },
  {
   "cell_type": "markdown",
   "id": "4ea01791",
   "metadata": {},
   "source": [
    "## Aside: Dummy Vars"
   ]
  },
  {
   "cell_type": "code",
   "execution_count": null,
   "id": "991c0bdf",
   "metadata": {},
   "outputs": [],
   "source": [
    "p_load(\"caret\")\n",
    "dmy <- dummyVars(\" ~ .\", data = credit) # One-hot-encoding\n",
    "head(dmy)"
   ]
  },
  {
   "cell_type": "code",
   "execution_count": null,
   "id": "25a948cd",
   "metadata": {},
   "outputs": [],
   "source": [
    "credit <- data.frame(predict(dmy, newdata = credit))"
   ]
  },
  {
   "cell_type": "code",
   "execution_count": null,
   "id": "860033e7",
   "metadata": {},
   "outputs": [],
   "source": [
    "head(credit)"
   ]
  },
  {
   "cell_type": "markdown",
   "id": "734bbb33",
   "metadata": {},
   "source": [
    "## Out of sample prediction"
   ]
  },
  {
   "cell_type": "code",
   "execution_count": null,
   "id": "d30a67e6",
   "metadata": {},
   "outputs": [],
   "source": [
    "credit<- credit  %>% mutate(Default=factor(Default.Si,levels=c(0,1),labels=c(\"No\",\"Si\")))"
   ]
  },
  {
   "cell_type": "code",
   "execution_count": null,
   "id": "a3468164",
   "metadata": {},
   "outputs": [],
   "source": [
    "inTrain <- createDataPartition(\n",
    "  y = credit$Default.Si,## La variable dependiente u objetivo \n",
    "  p = .7, ## Usamos 70%  de los datos en el conjunto de entrenamiento \n",
    "  list = FALSE)\n",
    "\n",
    "\n",
    "train <- credit[ inTrain,]\n",
    "test  <- credit[-inTrain,]"
   ]
  },
  {
   "cell_type": "code",
   "execution_count": null,
   "id": "451cc45c",
   "metadata": {},
   "outputs": [],
   "source": [
    "head(train)"
   ]
  },
  {
   "cell_type": "markdown",
   "id": "d0e60faf",
   "metadata": {},
   "source": [
    "### Logit"
   ]
  },
  {
   "cell_type": "code",
   "execution_count": null,
   "id": "2b6bdaef",
   "metadata": {},
   "outputs": [],
   "source": [
    "ctrl<- trainControl(method = \"cv\",\n",
    "                    number = 5,\n",
    "                    classProbs = TRUE,\n",
    "                    verbose=FALSE,\n",
    "                    savePredictions = T)\n"
   ]
  },
  {
   "cell_type": "code",
   "execution_count": null,
   "id": "7ac9f557",
   "metadata": {
    "scrolled": true
   },
   "outputs": [],
   "source": [
    "set.seed(1410)\n",
    "mylogit_caret <- train(Default~duration+amount+installment+age+\n",
    "                       history.buena+history.mala+\n",
    "                       purpose.auto_nuevo+purpose.auto_usado+purpose.bienes+purpose.educacion+\n",
    "                       foreign.extranjero+\n",
    "                       +rent.TRUE, \n",
    "                       data = train, \n",
    "                       method = \"glm\",\n",
    "                       trControl = ctrl,\n",
    "                       family = \"binomial\")\n",
    "\n",
    "\n",
    "mylogit_caret"
   ]
  },
  {
   "cell_type": "code",
   "execution_count": null,
   "id": "8d6e31c8",
   "metadata": {},
   "outputs": [],
   "source": [
    "predictTest_logit <- data.frame(\n",
    "  obs = test$Default,                                    ## observed class labels\n",
    "  predict(mylogit_caret, newdata = test, type = \"prob\"),         ## predicted class probabilities\n",
    "  pred = predict(mylogit_caret, newdata = test, type = \"raw\")    ## predicted class labels\n",
    ")\n"
   ]
  },
  {
   "cell_type": "code",
   "execution_count": null,
   "id": "15166903",
   "metadata": {},
   "outputs": [],
   "source": [
    "head(predictTest_logit)"
   ]
  },
  {
   "cell_type": "markdown",
   "id": "4cd103b9",
   "metadata": {},
   "source": [
    "\n"
   ]
  }
 ],
 "metadata": {
  "jupytext": {
   "cell_metadata_filter": "tags,name,-all",
   "main_language": "R",
   "notebook_metadata_filter": "-all"
  },
  "kernelspec": {
   "display_name": "R",
   "language": "R",
   "name": "ir"
  },
  "language_info": {
   "codemirror_mode": "r",
   "file_extension": ".r",
   "mimetype": "text/x-r-source",
   "name": "R",
   "pygments_lexer": "r",
   "version": "4.3.0"
  },
  "toc": {
   "base_numbering": 1,
   "nav_menu": {},
   "number_sections": true,
   "sideBar": true,
   "skip_h1_title": false,
   "title_cell": "Table of Contents",
   "title_sidebar": "Contents",
   "toc_cell": false,
   "toc_position": {
    "height": "calc(100% - 180px)",
    "left": "10px",
    "top": "150px",
    "width": "344.4px"
   },
   "toc_section_display": true,
   "toc_window_display": false
  }
 },
 "nbformat": 4,
 "nbformat_minor": 5
}
