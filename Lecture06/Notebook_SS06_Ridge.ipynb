{
 "cells": [
  {
   "cell_type": "markdown",
   "id": "a952ad54-2218-4382-b2eb-d401d349f764",
   "metadata": {},
   "source": [
    "<div >\n",
    "<img src = \"../../banner.jpg\" />\n",
    "</div>"
   ]
  },
  {
   "cell_type": "markdown",
   "id": "3537f8b5",
   "metadata": {},
   "source": [
    "<a target=\"_blank\" href=\"https://colab.research.google.com/github/ignaciomsarmiento/BDML_SS/blob/main/Lecture06/Notebook_SS06_Ridge.ipynb\">\n",
    "  <img src=\"https://colab.research.google.com/assets/colab-badge.svg\" alt=\"Open In Colab\"/>\n",
    "</a>"
   ]
  },
  {
   "cell_type": "markdown",
   "id": "f7e57de4",
   "metadata": {},
   "source": [
    "\n",
    "# Regularization: Ridge"
   ]
  },
  {
   "cell_type": "markdown",
   "id": "303a3dcd",
   "metadata": {},
   "source": [
    "## Predicting Wages\n",
    "\n",
    "Our objective today is to construct a model of individual wages\n",
    "\n",
    "$$\n",
    "w = f(X) + u \n",
    "$$\n",
    "\n",
    "where w is the  wage, and X is a matrix that includes potential explanatory variables/predictors. In this problem set, we will focus on a linear model of the form\n",
    "\n",
    "\\begin{align}\n",
    " ln(w) & = \\beta_0 + \\beta_1 X_1 + \\dots + \\beta_p X_p  + u \n",
    "\\end{align}"
   ]
  },
  {
   "cell_type": "markdown",
   "id": "312ba2f4",
   "metadata": {},
   "source": [
    "were $ln(w)$ is the logarithm of the wage.\n",
    "\n",
    "To illustrate I'm going to use a sample of the NLSY97. The NLSY97 is  a nationally representative sample of 8,984 men and women born during the years 1980 through 1984 and living in the United States at the time of the initial survey in 1997.  Participants were ages 12 to 16 as of December 31, 1996.  Interviews were conducted annually from 1997 to 2011 and biennially since then.  "
   ]
  },
  {
   "cell_type": "markdown",
   "id": "2fdab5a6",
   "metadata": {},
   "source": [
    "Let's load the packages and the data set:"
   ]
  },
  {
   "cell_type": "code",
   "execution_count": null,
   "id": "73d05506",
   "metadata": {},
   "outputs": [],
   "source": [
    "# install.packages(\"pacman\") #run this line if you use Google Colab"
   ]
  },
  {
   "cell_type": "code",
   "execution_count": null,
   "id": "3e94ec2b-ab94-4ec8-8512-e370d2f22a56",
   "metadata": {
    "tags": [
     "remove_cell"
    ]
   },
   "outputs": [],
   "source": [
    "#packages\n",
    "require(\"pacman\")\n",
    "p_load(\"tidyverse\",\"stargazer\")\n",
    "\n",
    "nlsy <- read_csv('https://raw.githubusercontent.com/ignaciomsarmiento/datasets/main/nlsy97.csv')\n",
    "\n",
    "nlsy = nlsy  %>%   drop_na(educ) #dropea los valores faltantes (NA)"
   ]
  },
  {
   "cell_type": "markdown",
   "id": "49d73d77",
   "metadata": {},
   "source": [
    "We want to construct a model that predicts well out of sample, and we have potentially 994 regressors. We are going to regularize this regression using Ridge.\n",
    "\n",
    "## Ridge\n",
    "\n",
    "We first illustrate ridge regression, which can be fit using glmnet() with alpha = 0 and seeks to minimize\n",
    "\n",
    "$$\n",
    "\\sum_{i=1}^{n} \\left( y_i - \\beta_0 - \\sum_{j=1}^{p} \\beta_j x_{ij}    \\right) ^ 2 + \\lambda \\sum_{j=1}^{p} \\beta_j^2 .\n",
    "$$\n",
    "\n",
    "Notice that the intercept is not penalized. \n",
    "\n",
    "\n",
    "Ridge penalizes the squares  of the coefficients. As a result, ridge shrinks coefficients toward zero, but not all the way.\n",
    "\n",
    "We are going to use Glmnet. Glmnet is a package that fits generalized linear and similar models via penalized maximum likelihood. The regularization path is computed for the lasso or elastic net penalty at a grid of values (on the log scale) for the regularization parameter lambda. The algorithm is extremely fast!"
   ]
  },
  {
   "cell_type": "code",
   "execution_count": null,
   "id": "05f62f80",
   "metadata": {},
   "outputs": [],
   "source": [
    "p_load(\"glmnet\")"
   ]
  },
  {
   "cell_type": "code",
   "execution_count": null,
   "id": "7132e7e9",
   "metadata": {},
   "outputs": [],
   "source": [
    "# Matrix of predictos (all but lnw_2016)\n",
    "X0 <- as.matrix(nlsy  %>% select(-lnw_2016))\n",
    "\n",
    "#Vector that needs predicting\n",
    "y <- nlsy$lnw_2016\n",
    "\n",
    "\n",
    "ridge0 <- glmnet(\n",
    "  x = X0,\n",
    "  y = y,\n",
    "  alpha = 0 #ridge\n",
    ")\n",
    "\n",
    "\n",
    "plot(ridge0, xvar = \"lambda\")"
   ]
  },
  {
   "cell_type": "code",
   "execution_count": null,
   "id": "b51880c5",
   "metadata": {},
   "outputs": [],
   "source": [
    "ridge0$lambda"
   ]
  },
  {
   "cell_type": "markdown",
   "id": "0b5df971",
   "metadata": {},
   "source": [
    "## Scale Equivariance"
   ]
  },
  {
   "cell_type": "markdown",
   "id": "48194268",
   "metadata": {},
   "source": [
    "We are going to illustrate the scale problems using just `education` and `afqt` scores"
   ]
  },
  {
   "cell_type": "code",
   "execution_count": null,
   "id": "12c5e4bb",
   "metadata": {},
   "outputs": [],
   "source": [
    "\n",
    "\n",
    "#Vector that needs predicting\n",
    "y <- nlsy$lnw_2016\n",
    "\n",
    "# Matrix of predictos (all but lnw_2016)\n",
    "X <- as.matrix(nlsy  %>% select(educ,afqt))\n",
    "\n"
   ]
  },
  {
   "cell_type": "code",
   "execution_count": null,
   "id": "b3040954",
   "metadata": {},
   "outputs": [],
   "source": [
    "stargazer(data.frame(X),type=\"text\")"
   ]
  },
  {
   "cell_type": "markdown",
   "id": "3e2b42d3",
   "metadata": {},
   "source": [
    "Let's run the ridge regression (we need to set the parameter `alpha` to zero)"
   ]
  },
  {
   "cell_type": "code",
   "execution_count": null,
   "id": "7876f0c1",
   "metadata": {},
   "outputs": [],
   "source": [
    "ridge <- glmnet(\n",
    "  x = X,\n",
    "  y = y,\n",
    "  alpha = 0, #ridge\n",
    " lambda=1,\n",
    "  standarize=FALSE,\n",
    ")"
   ]
  },
  {
   "cell_type": "markdown",
   "id": "46568ae7",
   "metadata": {},
   "source": [
    "Let's see the coefficients we obtained"
   ]
  },
  {
   "cell_type": "code",
   "execution_count": null,
   "id": "460d878d",
   "metadata": {},
   "outputs": [],
   "source": [
    "coef(ridge)"
   ]
  },
  {
   "cell_type": "markdown",
   "id": "ce71fb14",
   "metadata": {},
   "source": [
    "Compare to OLS"
   ]
  },
  {
   "cell_type": "code",
   "execution_count": null,
   "id": "e5de6299",
   "metadata": {},
   "outputs": [],
   "source": [
    "ols<-lm(y~X)\n",
    "summary(ols)"
   ]
  },
  {
   "cell_type": "markdown",
   "id": "11d56111",
   "metadata": {},
   "source": [
    "### What happens if we change the scale for education?"
   ]
  },
  {
   "cell_type": "code",
   "execution_count": null,
   "id": "6b94c251",
   "metadata": {},
   "outputs": [],
   "source": [
    "X[,1]<-X[,1]*1000"
   ]
  },
  {
   "cell_type": "code",
   "execution_count": null,
   "id": "4c2af111",
   "metadata": {},
   "outputs": [],
   "source": [
    "ridge_1000 <- glmnet(\n",
    "  x = X,\n",
    "  y = y,\n",
    "  alpha = 0, #ridge\n",
    " lambda=1,\n",
    "  standarize=FALSE,\n",
    ")"
   ]
  },
  {
   "cell_type": "code",
   "execution_count": null,
   "id": "2acf3c44",
   "metadata": {},
   "outputs": [],
   "source": [
    "coef(ridge_1000)"
   ]
  },
  {
   "cell_type": "code",
   "execution_count": null,
   "id": "12193977",
   "metadata": {},
   "outputs": [],
   "source": [
    "ols_1000<-lm(y~X)\n",
    "summary(ols_1000)"
   ]
  },
  {
   "cell_type": "code",
   "execution_count": null,
   "id": "a1bfea09",
   "metadata": {},
   "outputs": [],
   "source": [
    "ols_1000$coefficients[2]*1000"
   ]
  },
  {
   "cell_type": "markdown",
   "id": "90b81769",
   "metadata": {},
   "source": [
    "## Selección de la penalización"
   ]
  },
  {
   "cell_type": "code",
   "execution_count": null,
   "id": "d9ce0d32",
   "metadata": {},
   "outputs": [],
   "source": [
    "p_load(\"caret\")"
   ]
  },
  {
   "cell_type": "code",
   "execution_count": null,
   "id": "2f2d1b9c",
   "metadata": {},
   "outputs": [],
   "source": [
    "set.seed(123)\n",
    "fitControl <- trainControl(## 5-fold CV, 10 better\n",
    "                           method = \"cv\",\n",
    "                           number = 5)"
   ]
  },
  {
   "cell_type": "code",
   "execution_count": null,
   "id": "42321d05",
   "metadata": {},
   "outputs": [],
   "source": [
    "ridge<-train(lnw_2016~.,\n",
    "             data=nlsy,\n",
    "             method = 'glmnet', \n",
    "             trControl = fitControl,\n",
    "             tuneGrid = expand.grid(alpha = 0, #Ridge\n",
    "                                    lambda = ridge0$lambda)\n",
    "              ) \n"
   ]
  },
  {
   "cell_type": "code",
   "execution_count": null,
   "id": "83f1c5c1",
   "metadata": {},
   "outputs": [],
   "source": [
    "plot(ridge$results$lambda,\n",
    "     ridge$results$RMSE,\n",
    "     xlab=\"lambda\",\n",
    "     ylab=\"Root Mean-Squared Error (RMSE)\"\n",
    "     )"
   ]
  },
  {
   "cell_type": "code",
   "execution_count": null,
   "id": "75c2004d",
   "metadata": {},
   "outputs": [],
   "source": [
    "ridge$bestTune"
   ]
  },
  {
   "cell_type": "code",
   "execution_count": null,
   "id": "0c38b2eb",
   "metadata": {},
   "outputs": [],
   "source": [
    "coef_ridge<-coef(ridge$finalModel, ridge$bestTune$lambda)\n",
    "coef_ridge"
   ]
  },
  {
   "cell_type": "markdown",
   "id": "63b950aa",
   "metadata": {},
   "source": [
    "### Compare to OLS fit"
   ]
  },
  {
   "cell_type": "code",
   "execution_count": null,
   "id": "84808f81",
   "metadata": {},
   "outputs": [],
   "source": [
    "ridge$results$RMSE[which.min(ridge$results$lambda)]"
   ]
  },
  {
   "cell_type": "code",
   "execution_count": null,
   "id": "775f3335",
   "metadata": {},
   "outputs": [],
   "source": [
    "linear_reg<-train(lnw_2016~.,\n",
    "                 data=nlsy,\n",
    "                  method = 'lm', \n",
    "                  trControl = fitControl\n",
    ") \n",
    "\n",
    "\n",
    "linear_reg"
   ]
  },
  {
   "cell_type": "markdown",
   "id": "e7c01749",
   "metadata": {},
   "source": [
    "### Compare to Lasso?"
   ]
  },
  {
   "cell_type": "code",
   "execution_count": null,
   "id": "e20bfc03",
   "metadata": {},
   "outputs": [],
   "source": [
    "lasso<-train(lnw_2016~.,\n",
    "             data=nlsy,\n",
    "             method = 'glmnet', \n",
    "             trControl = fitControl,\n",
    "             tuneGrid = expand.grid(alpha = 1, \n",
    "                                    lambda = ridge0$lambda)\n",
    "              ) \n"
   ]
  },
  {
   "cell_type": "code",
   "execution_count": null,
   "id": "f3ec8b10",
   "metadata": {},
   "outputs": [],
   "source": [
    "RMSE_df<-cbind(linear_reg$results$RMSE,\n",
    "               ridge$results$RMSE[which.min(ridge$results$lambda)],\n",
    "               lasso$results$RMSE[which.min(lasso$results$lambda)]\n",
    "              )\n",
    "colnames(RMSE_df)<-c(\"OLS\",\"RIDGE\",\"LASSO\")\n",
    "RMSE_df"
   ]
  }
 ],
 "metadata": {
  "jupytext": {
   "formats": "ipynb,Rmd"
  },
  "kernelspec": {
   "display_name": "R",
   "language": "R",
   "name": "ir"
  },
  "language_info": {
   "codemirror_mode": "r",
   "file_extension": ".r",
   "mimetype": "text/x-r-source",
   "name": "R",
   "pygments_lexer": "r",
   "version": "4.3.0"
  },
  "toc": {
   "base_numbering": 1,
   "nav_menu": {},
   "number_sections": true,
   "sideBar": true,
   "skip_h1_title": false,
   "title_cell": "Table of Contents",
   "title_sidebar": "Contents",
   "toc_cell": false,
   "toc_position": {},
   "toc_section_display": true,
   "toc_window_display": false
  }
 },
 "nbformat": 4,
 "nbformat_minor": 5
}
