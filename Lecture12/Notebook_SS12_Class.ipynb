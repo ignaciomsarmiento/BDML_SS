{
 "cells": [
  {
   "cell_type": "markdown",
   "id": "340f63f6-93da-4633-9f43-43927ea8d65c",
   "metadata": {},
   "source": [
    "<div >\n",
    "<img src = \"../banner.jpg\" />\n",
    "</div>"
   ]
  },
  {
   "cell_type": "markdown",
   "id": "d8e20450",
   "metadata": {},
   "source": [
    "# Classification (Cont.)"
   ]
  },
  {
   "cell_type": "markdown",
   "id": "0eba46da",
   "metadata": {},
   "source": [
    "To work through the steps of probability-based classification, we’ll use a real dataset on loans and credit from a set of local lenders in Germany (taken from the UC Irvine Machine Learning Repository and cleaned for our purposes). \n",
    "\n",
    "Credit scoring is a classic problem of classification, and it remains one of the big application domains for ML: use previous loan results (default versus payment) to train a model that can predict the performance of potential new loans.\n",
    "\n",
    "\\begin{align}\n",
    "Default=f(x) + u\n",
    "\\end{align}\n",
    "\n",
    "where $Default=I(Default=1)$\n",
    "\n",
    "Taken from the UC Irvine Machine Learning Repository.\n"
   ]
  },
  {
   "cell_type": "code",
   "execution_count": null,
   "id": "592ee382",
   "metadata": {},
   "outputs": [],
   "source": [
    "#Cargar librerías \n",
    "require(\"pacman\")\n",
    "p_load(tidyverse)\n",
    "set.seed(1011)"
   ]
  },
  {
   "cell_type": "code",
   "execution_count": null,
   "id": "8795384b",
   "metadata": {},
   "outputs": [],
   "source": [
    "#Leer los datos \n",
    "credit <- readRDS(url(\"https://github.com/ignaciomsarmiento/datasets/blob/main/credit_class.rds?raw=true\"))\n",
    "head(credit)"
   ]
  },
  {
   "cell_type": "code",
   "execution_count": null,
   "id": "2548afe4",
   "metadata": {},
   "outputs": [],
   "source": [
    "default<-credit$Default  #defino ahora va a servir después\n",
    "\n",
    "#mutación de factores\n",
    "credit<-credit %>% mutate(Default=factor(Default,levels=c(0,1),labels=c(\"No\",\"Si\")),\n",
    "                          history=factor(history,levels=c(\"good\",\"poor\",\"terrible\"),labels=c(\"buena\",\"mala\",\"terrible\")),\n",
    "                          foreign=factor(foreign,levels=c(\"foreign\",\"german\"),labels=c(\"extranjero\",\"aleman\")),\n",
    "                          purpose=factor(purpose,levels=c(\"newcar\",\"usedcar\",\"goods/repair\",\"edu\", \"biz\" ),labels=c(\"auto_nuevo\",\"auto_usado\",\"bienes\",\"educacion\",\"negocios\")))         "
   ]
  },
  {
   "cell_type": "code",
   "execution_count": null,
   "id": "7076a869",
   "metadata": {},
   "outputs": [],
   "source": [
    "mylogit <- glm(Default~., data = credit, family = \"binomial\")"
   ]
  },
  {
   "cell_type": "code",
   "execution_count": null,
   "id": "49bf83ea",
   "metadata": {},
   "outputs": [],
   "source": [
    "pred<-predict(mylogit,newdata = credit, type = \"response\")\n"
   ]
  },
  {
   "cell_type": "code",
   "execution_count": null,
   "id": "8d189012",
   "metadata": {},
   "outputs": [],
   "source": [
    "## what are our misclassification rates?\n",
    "rule <- 1/2 # Bayes Rule\n",
    "\n",
    "sum( (pred>rule)[default==0] )/sum(default==0) #False positive rate"
   ]
  },
  {
   "cell_type": "code",
   "execution_count": null,
   "id": "4f41af75",
   "metadata": {},
   "outputs": [],
   "source": [
    "sum( (pred>rule)[default==1] )/sum(default==1) #True positive rate"
   ]
  },
  {
   "cell_type": "markdown",
   "id": "4ea01791",
   "metadata": {},
   "source": [
    "## Aside: Dummy Vars"
   ]
  },
  {
   "cell_type": "code",
   "execution_count": null,
   "id": "991c0bdf",
   "metadata": {},
   "outputs": [],
   "source": [
    "p_load(\"caret\")\n",
    "dmy <- dummyVars(\" ~ .\", data = credit) # One-hot-encoding\n",
    "\n",
    "credit <- data.frame(predict(dmy, newdata = credit))"
   ]
  },
  {
   "cell_type": "markdown",
   "id": "734bbb33",
   "metadata": {},
   "source": [
    "## Out of sample prediction"
   ]
  },
  {
   "cell_type": "code",
   "execution_count": null,
   "id": "d30a67e6",
   "metadata": {},
   "outputs": [],
   "source": [
    "credit<- credit  %>% mutate(Default=factor(Default.Si,levels=c(0,1),labels=c(\"No\",\"Si\")))"
   ]
  },
  {
   "cell_type": "code",
   "execution_count": null,
   "id": "a3468164",
   "metadata": {},
   "outputs": [],
   "source": [
    "inTrain <- createDataPartition(\n",
    "  y = credit$Default.Si,## La variable dependiente u objetivo \n",
    "  p = .7, ## Usamos 70%  de los datos en el conjunto de entrenamiento \n",
    "  list = FALSE)\n",
    "\n",
    "\n",
    "train <- credit[ inTrain,]\n",
    "test  <- credit[-inTrain,]"
   ]
  },
  {
   "cell_type": "code",
   "execution_count": null,
   "id": "451cc45c",
   "metadata": {},
   "outputs": [],
   "source": [
    "head(train)"
   ]
  },
  {
   "cell_type": "markdown",
   "id": "d0e60faf",
   "metadata": {},
   "source": [
    "### Logit"
   ]
  },
  {
   "cell_type": "code",
   "execution_count": null,
   "id": "2b6bdaef",
   "metadata": {},
   "outputs": [],
   "source": [
    "ctrl<- trainControl(method = \"cv\",\n",
    "                    number = 5,\n",
    "                    classProbs = TRUE,\n",
    "                    verbose=FALSE,\n",
    "                    savePredictions = T)\n"
   ]
  },
  {
   "cell_type": "code",
   "execution_count": null,
   "id": "7ac9f557",
   "metadata": {
    "scrolled": true
   },
   "outputs": [],
   "source": [
    "set.seed(1410)\n",
    "mylogit_caret <- train(Default~duration+amount+installment+age+\n",
    "                       history.buena+history.mala+\n",
    "                       purpose.auto_nuevo+purpose.auto_usado+purpose.bienes+purpose.educacion+\n",
    "                       foreign.extranjero+\n",
    "                       +rent.TRUE, \n",
    "                       data = train, \n",
    "                       method = \"glm\",\n",
    "                       trControl = ctrl,\n",
    "                       family = \"binomial\")\n",
    "\n",
    "\n",
    "mylogit_caret"
   ]
  },
  {
   "cell_type": "code",
   "execution_count": null,
   "id": "8d6e31c8",
   "metadata": {},
   "outputs": [],
   "source": [
    "predictTest_logit <- data.frame(\n",
    "  obs = test$Default,                                    ## observed class labels\n",
    "  predict(mylogit_caret, newdata = test, type = \"prob\"),         ## predicted class probabilities\n",
    "  pred = predict(mylogit_caret, newdata = test, type = \"raw\")    ## predicted class labels\n",
    ")\n"
   ]
  },
  {
   "cell_type": "code",
   "execution_count": null,
   "id": "15166903",
   "metadata": {},
   "outputs": [],
   "source": [
    "head(predictTest_logit)"
   ]
  },
  {
   "cell_type": "code",
   "execution_count": null,
   "id": "12c831d3",
   "metadata": {},
   "outputs": [],
   "source": [
    "twoClassSummary(data = predictTest_logit, lev = levels(predictTest_logit$obs))"
   ]
  },
  {
   "cell_type": "markdown",
   "id": "51307a14",
   "metadata": {},
   "source": [
    "## KNN"
   ]
  },
  {
   "cell_type": "code",
   "execution_count": null,
   "id": "c30b1acb",
   "metadata": {},
   "outputs": [],
   "source": [
    "set.seed(1410)\n",
    "mylogit_knn <- train(Default~duration+amount+installment+age+\n",
    "                       history.buena+history.mala+\n",
    "                       purpose.auto_nuevo+purpose.auto_usado+purpose.bienes+purpose.educacion+\n",
    "                       foreign.extranjero+\n",
    "                       +rent.TRUE, \n",
    "                       data = train, \n",
    "                       method = \"knn\",\n",
    "                       trControl = ctrl,\n",
    "                     tuneGrid = expand.grid(k=c(3,5,7,9,11)))\n",
    "\n",
    "\n",
    "mylogit_knn"
   ]
  },
  {
   "cell_type": "markdown",
   "id": "7c622016",
   "metadata": {},
   "source": [
    "## LDA"
   ]
  },
  {
   "cell_type": "markdown",
   "id": "c9be5aea",
   "metadata": {},
   "source": [
    "\n",
    "\\begin{align}\n",
    "p (Y=1|X)=\\frac{f(X|Y=1)p(Y=1)}{m(X)}\n",
    "\\end{align}\n",
    "\n",
    "\n",
    "with $m(X)$ is the marginal distribution of $X$, i.e.\n",
    "\n",
    "\\begin{align}\n",
    "m(X)=\\int f(X|Y=y)p(Y=y)dy\n",
    "\\end{align}\n",
    "\n",
    "Recall that there are two states of nature $y \\rightarrow i\\in\\{0,1\\}$\n",
    "\n",
    "\n",
    "\\begin{align}\n",
    "m(X) &= f(X|Y=1)p(Y=1) + f(X|Y=0)p(Y=0) \n",
    "\\end{align}\n",
    "\n",
    "\n",
    "\\begin{align}\n",
    "m(X)     &= f(X|Y=1)p(Y=1) + f(X|Y=0)(1-p(Y=1))\n",
    "\\end{align}"
   ]
  },
  {
   "cell_type": "markdown",
   "id": "21a7d206",
   "metadata": {},
   "source": [
    "We need to estimate $f(X|Y=1)$,  $f(X|Y=0)$ and $p(Y=1)$ \n"
   ]
  },
  {
   "cell_type": "markdown",
   "id": "cbf29ed1",
   "metadata": {},
   "source": [
    "#### By Hand"
   ]
  },
  {
   "cell_type": "markdown",
   "id": "b8351e87",
   "metadata": {},
   "source": [
    "\n",
    "- Let's start by estimating $p(Y=1)$. We've done this before\n",
    "\n",
    "    \\begin{align}\n",
    "    p(Y=1) = \\frac{\\sum_{i=1}^n 1[Y_i=1]}{N}\n",
    "    \\end{align}\n"
   ]
  },
  {
   "cell_type": "code",
   "execution_count": null,
   "id": "88a90182",
   "metadata": {},
   "outputs": [],
   "source": [
    "p1<-sum(train$Default.Si)/dim(train)[1]\n",
    "p1"
   ]
  },
  {
   "cell_type": "markdown",
   "id": "c386b685",
   "metadata": {},
   "source": [
    "\n",
    "- Next $f(X|Y=j)$ with $j=0,1$. \n",
    "\n",
    "    - If we assume one predictor and $X|Y\\sim N(\\mu_j,\\sigma_j)$, the problem boils down to estimating $\\mu_j,\\sigma_j$\n",
    "\n",
    "    - LDA makes it simpler, assumes $\\sigma_j=\\sigma$ $\\forall j$\n",
    "\n",
    "To do this partition the sample in two $Y=0$ and $Y=1$, estimate the moments and get $\\hat{f}(X|Y=j)$"
   ]
  },
  {
   "cell_type": "markdown",
   "id": "30b5e9e2",
   "metadata": {},
   "source": [
    "**Means**\n",
    "\n",
    "\\begin{align}\n",
    "\\hat{\\mu}_k=\\frac{1}{n_k}\\sum_{i:y_i=k}x_i\n",
    "\\end{align}"
   ]
  },
  {
   "cell_type": "code",
   "execution_count": null,
   "id": "1bd0581f",
   "metadata": {},
   "outputs": [],
   "source": [
    "#Means\n",
    "mu1<-mean(train$duration[train$Default.Si==1])\n",
    "mu1"
   ]
  },
  {
   "cell_type": "code",
   "execution_count": null,
   "id": "f374ea75",
   "metadata": {},
   "outputs": [],
   "source": [
    "mu0<-mean(train$duration[train$Default.Si==0])\n",
    "mu0"
   ]
  },
  {
   "cell_type": "markdown",
   "id": "d952467b",
   "metadata": {},
   "source": [
    "**Variance**\n",
    "\n",
    "\\begin{align}\n",
    "\\hat{\\sigma}^2 = \\frac{1}{N-K} \\sum_{k=1}^K \\sum_{i:y_i=k} (x_i -\\hat{\\mu}_k)^2\n",
    "\\end{align}"
   ]
  },
  {
   "cell_type": "code",
   "execution_count": null,
   "id": "ce086086",
   "metadata": {},
   "outputs": [],
   "source": [
    "#Variance\n",
    "g1<-sum((train$duration[train$Default.Si==1]-mu1)^2)\n",
    "g0<-sum((train$duration[train$Default.Si==0]-mu0)^2)\n",
    "\n",
    "\n",
    "sigma<-sqrt((g1+g0)/(dim(train)[1]-2))\n",
    "sigma"
   ]
  },
  {
   "cell_type": "markdown",
   "id": "f9979fe3",
   "metadata": {},
   "source": [
    "With the moments, now we can obtain $f(X|Y=j)$ with $j=0,1$. "
   ]
  },
  {
   "cell_type": "code",
   "execution_count": null,
   "id": "51594bea",
   "metadata": {},
   "outputs": [],
   "source": [
    "f1<-dnorm(test$duration,mean=mu1,sd=sigma)\n",
    "f0<-dnorm(test$duration,mean=mu0,sd=sigma)"
   ]
  },
  {
   "cell_type": "markdown",
   "id": "8e306d54",
   "metadata": {},
   "source": [
    "- Finally plug everything into the Bayes Rule and we are done:\n",
    "\\begin{align}\n",
    "p (Y=1|X)=\\frac{f(X|Y=1)p(Y=1)}{f(X|Y=1)p(Y=1) + f(X|Y=0)(1-p(Y=1))}\n",
    "\\end{align}\n"
   ]
  },
  {
   "cell_type": "code",
   "execution_count": null,
   "id": "55ea9ad0",
   "metadata": {},
   "outputs": [],
   "source": [
    "post_hand<-f1*p1/(f1*p1+f0*(1-p1))\n",
    "head(post_hand)"
   ]
  },
  {
   "cell_type": "code",
   "execution_count": null,
   "id": "0578eb0c",
   "metadata": {},
   "outputs": [],
   "source": [
    "p_load(\"MASS\")     # LDA\n",
    "lda_simple <- lda(Default.Si~duration, data = train)\n",
    "lda_simple_pred<-predict(lda_simple,test)\n",
    "names(lda_simple_pred)\n"
   ]
  },
  {
   "cell_type": "code",
   "execution_count": null,
   "id": "aaffea03",
   "metadata": {},
   "outputs": [],
   "source": [
    "posteriors<-data.frame(lda_simple_pred$posterior)\n",
    "posteriors$hand<-post_hand\n",
    "\n",
    "head(posteriors)"
   ]
  },
  {
   "cell_type": "markdown",
   "id": "7efc7f4a",
   "metadata": {},
   "source": [
    "### Caret"
   ]
  },
  {
   "cell_type": "code",
   "execution_count": null,
   "id": "91e5ae7e",
   "metadata": {},
   "outputs": [],
   "source": [
    "lda_fit = train(Default~duration+amount+installment+age, \n",
    "                data=train, \n",
    "                method=\"lda\",\n",
    "                trControl = ctrl)\n",
    "\n",
    "lda_fit"
   ]
  },
  {
   "cell_type": "markdown",
   "id": "4cd103b9",
   "metadata": {},
   "source": [
    "\n"
   ]
  },
  {
   "cell_type": "markdown",
   "id": "9269eacc",
   "metadata": {},
   "source": [
    "## Naive Bayes"
   ]
  },
  {
   "cell_type": "code",
   "execution_count": null,
   "id": "c96cb1ec",
   "metadata": {},
   "outputs": [],
   "source": [
    "p_load(\"klaR\")\n",
    "set.seed(1410)\n",
    "mylogit_nb <- train(Default~duration+amount+installment+age+\n",
    "                       history.buena+history.mala+\n",
    "                       purpose.auto_nuevo+purpose.auto_usado+purpose.bienes+purpose.educacion+\n",
    "                       foreign.extranjero+\n",
    "                       +rent.TRUE, \n",
    "                       data = train, \n",
    "                       method = \"nb\",\n",
    "                       trControl = ctrl)\n",
    "\n",
    "\n",
    "mylogit_nb"
   ]
  },
  {
   "cell_type": "code",
   "execution_count": null,
   "id": "6e4b50e5",
   "metadata": {},
   "outputs": [],
   "source": []
  }
 ],
 "metadata": {
  "jupytext": {
   "cell_metadata_filter": "tags,name,-all",
   "main_language": "R",
   "notebook_metadata_filter": "-all"
  },
  "kernelspec": {
   "display_name": "R",
   "language": "R",
   "name": "ir"
  },
  "language_info": {
   "codemirror_mode": "r",
   "file_extension": ".r",
   "mimetype": "text/x-r-source",
   "name": "R",
   "pygments_lexer": "r",
   "version": "4.3.0"
  },
  "toc": {
   "base_numbering": 1,
   "nav_menu": {},
   "number_sections": true,
   "sideBar": true,
   "skip_h1_title": false,
   "title_cell": "Table of Contents",
   "title_sidebar": "Contents",
   "toc_cell": false,
   "toc_position": {
    "height": "calc(100% - 180px)",
    "left": "10px",
    "top": "150px",
    "width": "344.4px"
   },
   "toc_section_display": true,
   "toc_window_display": false
  }
 },
 "nbformat": 4,
 "nbformat_minor": 5
}
