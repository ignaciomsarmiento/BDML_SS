{
 "cells": [
  {
   "cell_type": "markdown",
   "id": "a952ad54-2218-4382-b2eb-d401d349f764",
   "metadata": {},
   "source": [
    "<div >\n",
    "<img src = \"../../banner.jpg\" />\n",
    "</div>"
   ]
  },
  {
   "cell_type": "markdown",
   "id": "f56e0eb3",
   "metadata": {},
   "source": [
    "<a target=\"_blank\" href=\"https://colab.research.google.com/github/ignaciomsarmiento/BDML_SS/blob/main/Lecture07/Notebook_SS0.ipynb\">\n",
    "  <img src=\"https://colab.research.google.com/assets/colab-badge.svg\" alt=\"Open In Colab\"/>\n",
    "</a>"
   ]
  },
  {
   "cell_type": "markdown",
   "id": "f7e57de4",
   "metadata": {},
   "source": [
    "\n",
    "# Regularization: Lasso"
   ]
  },
  {
   "cell_type": "markdown",
   "id": "303a3dcd",
   "metadata": {},
   "source": [
    "## Predicting Wages\n",
    "\n",
    "Our objective today is to construct a model of individual wages\n",
    "\n",
    "$$\n",
    "w = f(X) + u \n",
    "$$\n",
    "\n",
    "where w is the  wage, and X is a matrix that includes potential explanatory variables/predictors. In this problem set, we will focus on a linear model of the form\n",
    "\n",
    "\\begin{align}\n",
    " ln(w) & = \\beta_0 + \\beta_1 X_1 + \\dots + \\beta_p X_p  + u \n",
    "\\end{align}"
   ]
  },
  {
   "cell_type": "markdown",
   "id": "312ba2f4",
   "metadata": {},
   "source": [
    "were $ln(w)$ is the logarithm of the wage.\n",
    "\n",
    "To illustrate I'm going to use a sample of the NLSY97. The NLSY97 is  a nationally representative sample of 8,984 men and women born during the years 1980 through 1984 and living in the United States at the time of the initial survey in 1997.  Participants were ages 12 to 16 as of December 31, 1996.  Interviews were conducted annually from 1997 to 2011 and biennially since then.  "
   ]
  },
  {
   "cell_type": "markdown",
   "id": "2fdab5a6",
   "metadata": {},
   "source": [
    "Let's load the packages and the data set:"
   ]
  },
  {
   "cell_type": "code",
   "execution_count": null,
   "id": "dce4bb18",
   "metadata": {},
   "outputs": [],
   "source": [
    "# install.packages(\"pacman\") #run this line if you use Google Colab"
   ]
  },
  {
   "cell_type": "code",
   "execution_count": null,
   "id": "3e94ec2b-ab94-4ec8-8512-e370d2f22a56",
   "metadata": {
    "tags": [
     "remove_cell"
    ]
   },
   "outputs": [],
   "source": [
    "#packages\n",
    "require(\"pacman\")\n",
    "p_load(\"tidyverse\",\"stargazer\")\n",
    "\n",
    "nlsy <- read_csv('https://raw.githubusercontent.com/ignaciomsarmiento/datasets/main/nlsy97.csv')\n",
    "\n",
    "nlsy = nlsy  %>%   drop_na(educ) #dropea los valores faltantes (NA)"
   ]
  },
  {
   "cell_type": "markdown",
   "id": "49d73d77",
   "metadata": {},
   "source": [
    "We want to construct a model that predicts well out of sample, and we have potentially 994 regressors. We are going to regularize this regression using Ridge.\n",
    "\n",
    "## Lasso\n",
    "\n",
    "We first illustrate ridge regression, which can be fit using glmnet() with alpha = 1 and seeks to minimize\n",
    "\n",
    "$$\n",
    "\\sum_{i=1}^{n} \\left( y_i - \\beta_0 - \\sum_{j=1}^{p} \\beta_j x_{ij}    \\right) ^ 2 + \\lambda \\sum_{j=1}^{p} |\\beta_j|.\n",
    "$$\n",
    "\n",
    "Notice that the intercept is not penalized. \n",
    "\n",
    "\n",
    "We are going to use Glmnet. Glmnet is a package that fits generalized linear and similar models via penalized maximum likelihood. The regularization path is computed for the lasso or elastic net penalty at a grid of values (on the log scale) for the regularization parameter lambda. The algorithm is extremely fast!"
   ]
  },
  {
   "cell_type": "markdown",
   "id": "3055c3d7",
   "metadata": {},
   "source": [
    "## Intuition: few predictors"
   ]
  },
  {
   "cell_type": "code",
   "execution_count": null,
   "id": "8b1d97b3",
   "metadata": {},
   "outputs": [],
   "source": [
    "p_load(\"glmnet\")"
   ]
  },
  {
   "cell_type": "code",
   "execution_count": null,
   "id": "3ee45368",
   "metadata": {},
   "outputs": [],
   "source": [
    "#Vector that needs predicting\n",
    "y <- nlsy$lnw_2016\n",
    "\n",
    "# Matrix of predictos (only educ and afqt)\n",
    "X <- as.matrix(nlsy  %>% select(educ,mom_educ,dad_educ))\n",
    "\n"
   ]
  },
  {
   "cell_type": "markdown",
   "id": "efad9564",
   "metadata": {},
   "source": [
    "### No penalty = OLS"
   ]
  },
  {
   "cell_type": "code",
   "execution_count": null,
   "id": "3b1ca6ac",
   "metadata": {},
   "outputs": [],
   "source": [
    "lasso_no_pen <- glmnet(\n",
    "  x = X,\n",
    "  y = y,\n",
    "  alpha = 1, #lasso\n",
    "  lambda=0\n",
    ")"
   ]
  },
  {
   "cell_type": "code",
   "execution_count": null,
   "id": "7f1f0b07",
   "metadata": {},
   "outputs": [],
   "source": [
    "lasso_no_pen$beta"
   ]
  },
  {
   "cell_type": "code",
   "execution_count": null,
   "id": "d3e5981b",
   "metadata": {},
   "outputs": [],
   "source": [
    "summary(lm(y~X))"
   ]
  },
  {
   "cell_type": "markdown",
   "id": "9c8f3fdf",
   "metadata": {},
   "source": [
    "### With Penalty"
   ]
  },
  {
   "cell_type": "code",
   "execution_count": null,
   "id": "f58c52a6",
   "metadata": {},
   "outputs": [],
   "source": [
    "lasso_pen <- glmnet(\n",
    "  x = X,\n",
    "  y = y,\n",
    "  alpha = 1, #lasso\n",
    "  lambda=.2\n",
    ")"
   ]
  },
  {
   "cell_type": "code",
   "execution_count": null,
   "id": "a2b69f9f",
   "metadata": {},
   "outputs": [],
   "source": [
    "lasso_pen$beta"
   ]
  },
  {
   "cell_type": "markdown",
   "id": "675cd0dd",
   "metadata": {},
   "source": [
    "### Larger Penalty"
   ]
  },
  {
   "cell_type": "code",
   "execution_count": null,
   "id": "17d9a863",
   "metadata": {},
   "outputs": [],
   "source": [
    "lasso_pen_large <- glmnet(\n",
    "  x = X,\n",
    "  y = y,\n",
    "  alpha = 1, #lasso\n",
    "  lambda=1e70\n",
    ")"
   ]
  },
  {
   "cell_type": "code",
   "execution_count": null,
   "id": "27fbb867",
   "metadata": {},
   "outputs": [],
   "source": [
    "lasso_pen_large$beta"
   ]
  },
  {
   "cell_type": "code",
   "execution_count": null,
   "id": "e5c2aa73",
   "metadata": {},
   "outputs": [],
   "source": [
    "### Various Penalties"
   ]
  },
  {
   "cell_type": "code",
   "execution_count": null,
   "id": "e8550b3b",
   "metadata": {},
   "outputs": [],
   "source": [
    "lasso01 <- glmnet(\n",
    "  x = X,\n",
    "  y = y,\n",
    "  alpha = 1 #lasso\n",
    ")"
   ]
  },
  {
   "cell_type": "code",
   "execution_count": null,
   "id": "8db5896e",
   "metadata": {},
   "outputs": [],
   "source": [
    "\n",
    "plot(lasso01, xvar = \"lambda\")"
   ]
  },
  {
   "cell_type": "markdown",
   "id": "b5c02d78",
   "metadata": {},
   "source": [
    "## Lasso all predictors"
   ]
  },
  {
   "cell_type": "code",
   "execution_count": null,
   "id": "7b99ed61",
   "metadata": {},
   "outputs": [],
   "source": [
    "# Matrix of predictos (all but lnw_2016)\n",
    "X0 <- as.matrix(nlsy  %>% select(-lnw_2016))\n",
    "\n",
    "#Vector that needs predicting\n",
    "y <- nlsy$lnw_2016\n",
    "\n",
    "\n",
    "lasso0 <- glmnet(\n",
    "  x = X0,\n",
    "  y = y,\n",
    "  alpha = 1 #lasso\n",
    ")\n",
    "\n",
    "\n",
    "plot(lasso0, xvar = \"lambda\")"
   ]
  },
  {
   "cell_type": "markdown",
   "id": "bbbf0197",
   "metadata": {},
   "source": [
    "## Selección de la penalización"
   ]
  },
  {
   "cell_type": "code",
   "execution_count": null,
   "id": "2d32b77b",
   "metadata": {},
   "outputs": [],
   "source": [
    "p_load(\"caret\")"
   ]
  },
  {
   "cell_type": "code",
   "execution_count": null,
   "id": "19b8694c",
   "metadata": {},
   "outputs": [],
   "source": [
    "set.seed(123)\n",
    "fitControl <- trainControl(## 5-fold CV, 10 better\n",
    "                           method = \"cv\",\n",
    "                           number = 5)"
   ]
  },
  {
   "cell_type": "code",
   "execution_count": null,
   "id": "39055b62",
   "metadata": {},
   "outputs": [],
   "source": [
    "lasso<-train(lnw_2016~.,\n",
    "             data=nlsy,\n",
    "             method = 'glmnet', \n",
    "             trControl = fitControl,\n",
    "             tuneGrid = expand.grid(alpha = 1, #lasso\n",
    "                                    lambda = lasso0$lambda)\n",
    "              ) \n"
   ]
  },
  {
   "cell_type": "code",
   "execution_count": null,
   "id": "0fa6a8c6",
   "metadata": {},
   "outputs": [],
   "source": [
    "plot(lasso$results$lambda,\n",
    "     lasso$results$RMSE,\n",
    "     xlab=\"lambda\",\n",
    "     ylab=\"Root Mean-Squared Error (RMSE)\"\n",
    "     )"
   ]
  },
  {
   "cell_type": "code",
   "execution_count": null,
   "id": "674d3333",
   "metadata": {},
   "outputs": [],
   "source": [
    "lasso$bestTune"
   ]
  },
  {
   "cell_type": "code",
   "execution_count": null,
   "id": "7d43a8a2",
   "metadata": {},
   "outputs": [],
   "source": [
    "coef_lasso<-coef(lasso$finalModel, lasso$bestTune$lambda)\n",
    "coef_lasso"
   ]
  },
  {
   "cell_type": "markdown",
   "id": "bda8169f",
   "metadata": {},
   "source": [
    "### Compare to OLS fit"
   ]
  },
  {
   "cell_type": "code",
   "execution_count": null,
   "id": "5507ebbf",
   "metadata": {},
   "outputs": [],
   "source": [
    "lasso$results$RMSE[which.min(lasso$results$lambda)]"
   ]
  },
  {
   "cell_type": "code",
   "execution_count": null,
   "id": "b2955cf7",
   "metadata": {},
   "outputs": [],
   "source": [
    "linear_reg<-train(lnw_2016~.,\n",
    "                 data=nlsy,\n",
    "                  method = 'lm', \n",
    "                  trControl = fitControl\n",
    ") \n",
    "\n",
    "\n",
    "linear_reg"
   ]
  },
  {
   "cell_type": "markdown",
   "id": "acab7522",
   "metadata": {},
   "source": [
    "### Compare to Ridge?"
   ]
  },
  {
   "cell_type": "code",
   "execution_count": null,
   "id": "b74edb29",
   "metadata": {},
   "outputs": [],
   "source": [
    "ridge<-train(lnw_2016~.,\n",
    "             data=nlsy,\n",
    "             method = 'glmnet', \n",
    "             trControl = fitControl,\n",
    "             tuneGrid = expand.grid(alpha = 0, #ridge\n",
    "                                    lambda = lasso0$lambda)\n",
    "              ) \n"
   ]
  },
  {
   "cell_type": "code",
   "execution_count": null,
   "id": "df7346fc",
   "metadata": {},
   "outputs": [],
   "source": [
    "RMSE_df<-cbind(linear_reg$results$RMSE,\n",
    "               ridge$results$RMSE[which.min(ridge$results$lambda)],\n",
    "               lasso$results$RMSE[which.min(lasso$results$lambda)]\n",
    "              )\n",
    "colnames(RMSE_df)<-c(\"OLS\",\"RIDGE\",\"LASSO\")\n",
    "RMSE_df"
   ]
  },
  {
   "cell_type": "markdown",
   "id": "854e04b5",
   "metadata": {},
   "source": [
    "## Elastic Net\n",
    "\n",
    "\\begin{align}\n",
    "min_{\\beta} EN(\\beta) &= \\sum_{i=1}^n (y_i-\\beta_0 - \\sum_{j=1}^p x_{ij}\\beta_j)^2  + \\lambda\\left(\\alpha \\sum_{j=1}^p |\\beta_j| + \\frac{(1-\\alpha)}{2} \\sum_{j=1}^p (\\beta_j)^2\\right)\n",
    "\\end{align}"
   ]
  },
  {
   "cell_type": "code",
   "execution_count": null,
   "id": "b625190e",
   "metadata": {},
   "outputs": [],
   "source": [
    "EN<-train(lnw_2016~.,\n",
    "             data=nlsy,\n",
    "             method = 'glmnet', \n",
    "             trControl = fitControl,\n",
    "             tuneGrid = expand.grid(alpha =seq(0,1,0.1),\n",
    "                                    lambda = lasso0$lambda)\n",
    "              ) "
   ]
  },
  {
   "cell_type": "code",
   "execution_count": null,
   "id": "83625730",
   "metadata": {},
   "outputs": [],
   "source": [
    "EN$bestTune"
   ]
  },
  {
   "cell_type": "markdown",
   "id": "0b8eba91",
   "metadata": {},
   "source": [
    "### Compare\n",
    "\n",
    "#### Coeficients"
   ]
  },
  {
   "cell_type": "code",
   "execution_count": null,
   "id": "cf15f0f3",
   "metadata": {},
   "outputs": [],
   "source": [
    "coef_lasso<-coef(lasso$finalModel, lasso$bestTune$lambda)\n",
    "coef_ridge<-coef(ridge$finalModel, ridge$bestTune$lambda)\n",
    "coef_EN<-coef(EN$finalModel,EN$bestTune$lambda)\n",
    "\n",
    "coefs_df<-cbind(coef(linear_reg$finalModel),as.matrix(coef_ridge),as.matrix(coef_lasso),as.matrix(coef_EN))\n",
    "colnames(coefs_df)<-c(\"OLS\",\"RIDGE\",\"LASSO\",\"ELASTIC_NET\")\n",
    "round(coefs_df,4)"
   ]
  },
  {
   "cell_type": "markdown",
   "id": "f9bb1b0c",
   "metadata": {},
   "source": [
    "#### RMSE"
   ]
  },
  {
   "cell_type": "code",
   "execution_count": null,
   "id": "1c8d8f6b",
   "metadata": {},
   "outputs": [],
   "source": [
    "RMSE_df<-cbind(linear_reg$results$RMSE,ridge$results$RMSE[which.min(ridge$results$lambda)],lasso$results$RMSE[which.min(lasso$results$lambda)],EN$results$RMSE[which.min(EN$results$lambda)])\n",
    "colnames(RMSE_df)<-c(\"OLS\",\"RIDGE\",\"LASSO\",\"EN\")\n",
    "RMSE_df"
   ]
  }
 ],
 "metadata": {
  "jupytext": {
   "formats": "ipynb,Rmd"
  },
  "kernelspec": {
   "display_name": "R",
   "language": "R",
   "name": "ir"
  },
  "language_info": {
   "codemirror_mode": "r",
   "file_extension": ".r",
   "mimetype": "text/x-r-source",
   "name": "R",
   "pygments_lexer": "r",
   "version": "4.3.0"
  },
  "toc": {
   "base_numbering": 1,
   "nav_menu": {},
   "number_sections": true,
   "sideBar": true,
   "skip_h1_title": false,
   "title_cell": "Table of Contents",
   "title_sidebar": "Contents",
   "toc_cell": false,
   "toc_position": {},
   "toc_section_display": true,
   "toc_window_display": false
  }
 },
 "nbformat": 4,
 "nbformat_minor": 5
}
