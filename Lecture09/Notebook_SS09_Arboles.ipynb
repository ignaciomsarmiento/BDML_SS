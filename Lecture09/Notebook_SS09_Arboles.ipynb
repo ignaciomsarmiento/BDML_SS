{
 "cells": [
  {
   "cell_type": "markdown",
   "id": "a952ad54-2218-4382-b2eb-d401d349f764",
   "metadata": {},
   "source": [
    "<div >\n",
    "<img src = \"../banner.jpg\" />\n",
    "</div>"
   ]
  },
  {
   "cell_type": "markdown",
   "id": "5cb113e3",
   "metadata": {},
   "source": [
    "<a target=\"_blank\" href=\"https://colab.research.google.com/github/ignaciomsarmiento/BDML_SS/blob/main/Lecture09/Notebook_SS09_Arboles\n",
    ".ipynb\">\n",
    "  <img src=\"https://colab.research.google.com/assets/colab-badge.svg\" alt=\"Open In Colab\"/>\n",
    "</a>\n"
   ]
  },
  {
   "cell_type": "markdown",
   "id": "f7e57de4",
   "metadata": {},
   "source": [
    "# CARTs, Bagging and Random Forests"
   ]
  },
  {
   "cell_type": "markdown",
   "id": "303a3dcd",
   "metadata": {},
   "source": [
    "## Predicting House Prices\n",
    "\n",
    "Our objective today is to construct a model to predict house prices. From Rosen's landmark paper \"Hedonic Prices and Implicit Markets: Product Differentiation in Pure Competition\" (1974), we know that a vector of its characteristics describes a differentiated good.\n",
    "\n",
    "In the case of a house, these characteristics may include structural attributes (e.g., number of bedrooms), neighborhood public services (e.g., local school quality), and local amenities (e.g., crime, air quality, etc). Thus, we can write the market price of the house as:\n",
    "\n",
    "$$\n",
    "Price=f(structural\\,attributes,amenities,...)\n",
    "$$\n",
    "\n",
    "\n",
    "However, Rosen's theory doesn't tell us much about the functional form of $f$. "
   ]
  },
  {
   "cell_type": "markdown",
   "id": "b9183a2e",
   "metadata": {},
   "source": [
    "## CARTS"
   ]
  },
  {
   "cell_type": "markdown",
   "id": "2fdab5a6",
   "metadata": {},
   "source": [
    "Let's load the packages:"
   ]
  },
  {
   "cell_type": "code",
   "execution_count": null,
   "id": "dce4bb18",
   "metadata": {},
   "outputs": [],
   "source": [
    "# install.packages(\"pacman\") #run this line if you use Google Colab"
   ]
  },
  {
   "cell_type": "code",
   "execution_count": null,
   "id": "3e94ec2b-ab94-4ec8-8512-e370d2f22a56",
   "metadata": {
    "tags": [
     "remove_cell"
    ]
   },
   "outputs": [],
   "source": [
    "#packages\n",
    "require(\"pacman\")\n",
    "p_load(\"tidyverse\",\"ggplot2\")"
   ]
  },
  {
   "cell_type": "markdown",
   "id": "5d6b3e2f",
   "metadata": {},
   "source": [
    " And the toy data set:"
   ]
  },
  {
   "cell_type": "code",
   "execution_count": null,
   "id": "41492fd2",
   "metadata": {},
   "outputs": [],
   "source": [
    "db<-read.csv('https://raw.githubusercontent.com/ignaciomsarmiento/datasets/main/toy_houses.csv')"
   ]
  },
  {
   "cell_type": "code",
   "execution_count": null,
   "id": "efd33e96",
   "metadata": {},
   "outputs": [],
   "source": [
    "head(db)"
   ]
  },
  {
   "cell_type": "code",
   "execution_count": null,
   "id": "bdf4ce56",
   "metadata": {},
   "outputs": [],
   "source": [
    "ggplot(db) +\n",
    "  geom_point(aes(x=habitaciones,y=DCBD),position=position_jitter(width = .05)) +\n",
    "  scale_x_continuous(breaks=seq(0,8,1)) +\n",
    "  theme_classic() +\n",
    "  xlab(\"Habitaciones\") +\n",
    "  ylab(\"Distancia al Centro\") +\n",
    "  theme(legend.position =  \"none\",\n",
    "      text=element_text(size=20))"
   ]
  },
  {
   "cell_type": "markdown",
   "id": "a5e5668c",
   "metadata": {},
   "source": [
    "### Algorithm\n",
    "\n",
    "\n",
    "-  Datos: $y_{n\\times 1}$  y $X_{n\\times k}$ \n",
    "\n",
    "-  Definiciones\n",
    "\n",
    "\n",
    "    -  $j$ es la variable que parte el espacio y  $s$ es el punto de partición\n",
    "\n",
    "    -  Defina los siguientes semiplanos\n",
    "\n",
    "\\begin{align}\n",
    "R_1(j,s)=\\{X|X_j\\leq s\\} \\,\\,\\, \\& \\,\\,\\, R_2(j,s)=\\{X|X_j > s\\}\n",
    "\\end{align}\n",
    "\n",
    "-  *El problema*: buscar la variable de partición $X_j$ y el punto $s$ de forma tal que \n",
    "\n",
    "\n",
    "\\begin{align}\n",
    "\\underset{j,s}{min} \\left[ \\underset{y_{R_1}}{min}\\sum_{x_i\\in R_1(j,s)}(y-y_{R_1})^2+ \\underset{y_{R_2}}{min}\\sum_{x_i\\in R_2(j,s)}(y-y_{R_2})^2\\right]\n",
    "\\end{align}\n",
    "\n"
   ]
  },
  {
   "cell_type": "markdown",
   "id": "c872b7af",
   "metadata": {},
   "source": [
    "#### Algorithm by hand (\"artesanal\")\n",
    "\n",
    "1. Iniciemos por DBCD"
   ]
  },
  {
   "cell_type": "code",
   "execution_count": null,
   "id": "d1d6b33c",
   "metadata": {},
   "outputs": [],
   "source": [
    "MSE_dbcd<-NA\n",
    "\n",
    "j<-1\n",
    "for(i in seq(1,2,0.25)){\n",
    "    #Region 1\n",
    "  R1<- db %>% filter(DCBD<=i)\n",
    "  R1<- R1 %>% mutate(c1=mean(price))\n",
    "  MSEr1<- ifelse(is.na(mean((R1$price-R1$c1)^2)),0,mean((R1$price-R1$c1)^2))\n",
    "    #Region 2\n",
    "  R2<- db %>% filter(DCBD>i)\n",
    "  R2<- R2 %>% mutate(c2=mean(price))\n",
    "  MSEr2<- ifelse(is.na(mean((R2$price-R2$c2)^2)),0,mean((R2$price-R2$c2)^2))\n",
    "  \n",
    "  MSE_dbcd[j]<-MSEr1+MSEr2\n",
    "  j<-j+1\n",
    "}\n",
    "\n",
    "MSE_dbcd"
   ]
  },
  {
   "cell_type": "markdown",
   "id": "77d699d3",
   "metadata": {},
   "source": [
    "2. Luego por Habitaciones"
   ]
  },
  {
   "cell_type": "code",
   "execution_count": null,
   "id": "cf7b2070",
   "metadata": {},
   "outputs": [],
   "source": [
    "MSE_hab<-NA\n",
    "\n",
    "for(i in 0:8){\n",
    "  R1<- db %>% filter(habitaciones<=i)\n",
    "  R1<- R1 %>% mutate(c1=mean(price))\n",
    "  MSEr1<- ifelse(is.na(mean((R1$price-R1$c1)^2)),0,mean((R1$price-R1$c1)^2))\n",
    "  R2<- db %>% filter(habitaciones>i)\n",
    "  R2<- R2 %>% mutate(c2=mean(price))\n",
    "  MSEr2<- ifelse(is.na(mean((R2$price-R2$c2)^2)),0,mean((R2$price-R2$c2)^2))\n",
    "  \n",
    "  MSE_hab[i+1]<-MSEr1+MSEr2\n",
    "  \n",
    "}\n",
    "MSE_hab"
   ]
  },
  {
   "cell_type": "markdown",
   "id": "6bdaa5ad",
   "metadata": {},
   "source": [
    "Mínimo?\n"
   ]
  },
  {
   "cell_type": "code",
   "execution_count": null,
   "id": "e9b1b5d3",
   "metadata": {},
   "outputs": [],
   "source": [
    "MSE<-c(MSE_dbcd,MSE_hab)\n",
    "MSE[which.min(MSE)]\n",
    "MSE"
   ]
  },
  {
   "cell_type": "markdown",
   "id": "e243021d",
   "metadata": {},
   "source": [
    "<iframe src=\"m.html\"></iframe>"
   ]
  },
  {
   "cell_type": "markdown",
   "id": "f29393e0",
   "metadata": {},
   "source": [
    "#### Algorithm in R"
   ]
  },
  {
   "cell_type": "markdown",
   "id": "22c8269f",
   "metadata": {},
   "source": [
    "There are multiple packages, we are going to use `rpart`"
   ]
  },
  {
   "cell_type": "code",
   "execution_count": null,
   "id": "69588256",
   "metadata": {},
   "outputs": [],
   "source": [
    "p_load(\"rpart\")"
   ]
  },
  {
   "cell_type": "code",
   "execution_count": null,
   "id": "3a7c95aa",
   "metadata": {},
   "outputs": [],
   "source": [
    "mytree<-rpart(log(price)~DCBD+habitaciones,data=db)"
   ]
  },
  {
   "cell_type": "code",
   "execution_count": null,
   "id": "d274c14e",
   "metadata": {},
   "outputs": [],
   "source": [
    "mytree"
   ]
  },
  {
   "cell_type": "code",
   "execution_count": null,
   "id": "30b93124",
   "metadata": {},
   "outputs": [],
   "source": [
    "plot(mytree)\n",
    "text(mytree)"
   ]
  },
  {
   "cell_type": "code",
   "execution_count": null,
   "id": "54712843",
   "metadata": {},
   "outputs": [],
   "source": [
    "p_load(\"rpart.plot\")\n",
    "\n",
    "prp(mytree, under = TRUE, branch.lty = 2, yesno = 2, faclen = 0, varlen=15,tweak=1.2,clip.facs= TRUE,box.palette = \"Greens\",compress=TRUE,ycompress = TRUE,node.fun=function(x, labs, digits, varlen) paste(\"Precio \\n\", format(round(exp(mytree$frame$yval), 0), nsmall=0, big.mark=\",\")))"
   ]
  },
  {
   "cell_type": "code",
   "execution_count": null,
   "id": "777ad5d9",
   "metadata": {},
   "outputs": [],
   "source": [
    "mytree_full<-rpart(log(price)~DCBD+habitaciones,data=db,cp=-1)"
   ]
  },
  {
   "cell_type": "code",
   "execution_count": null,
   "id": "5476f0cb",
   "metadata": {},
   "outputs": [],
   "source": [
    "prp(mytree_full, under = TRUE, branch.lty = 2, yesno = 2, faclen = 0, varlen=15,tweak=1.2,clip.facs= TRUE,box.palette = \"Greens\",compress=TRUE,ycompress = TRUE)"
   ]
  },
  {
   "cell_type": "markdown",
   "id": "3cca04c2",
   "metadata": {},
   "source": [
    "##### With Ames Data Set"
   ]
  },
  {
   "cell_type": "code",
   "execution_count": null,
   "id": "647d6dcf",
   "metadata": {},
   "outputs": [],
   "source": [
    "p_load(\"modeldata\")\n",
    "\n",
    "data(\"ames\", package = \"modeldata\")\n",
    "\n",
    "ames<-ames  %>% filter(Neighborhood %in%c(\"North_Ames\", \"College_Creek\", \"Old_Town\", \"Edwards\", \"Somerset\", \"Northridge_Heights\", \"Gilbert\", \"Sawyer\", \"Northwest_Ames\", \"Sawyer_West\"))\n"
   ]
  },
  {
   "cell_type": "code",
   "execution_count": null,
   "id": "f5b90bab",
   "metadata": {},
   "outputs": [],
   "source": [
    "head(ames)"
   ]
  },
  {
   "cell_type": "markdown",
   "id": "c555ba52",
   "metadata": {},
   "source": [
    "The description of the variables can be viewed here: https://jse.amstat.org/v19n3/decock/DataDocumentation.txt"
   ]
  },
  {
   "cell_type": "code",
   "execution_count": null,
   "id": "82f4e74a",
   "metadata": {},
   "outputs": [],
   "source": [
    "class(ames$Fence)"
   ]
  },
  {
   "cell_type": "code",
   "execution_count": null,
   "id": "c3950976",
   "metadata": {},
   "outputs": [],
   "source": [
    "amestree<-rpart(log(Sale_Price) ~ Gr_Liv_Area  + Bldg_Type + Fence,data=ames,cp=0.02)"
   ]
  },
  {
   "cell_type": "code",
   "execution_count": null,
   "id": "a8a8de0c",
   "metadata": {},
   "outputs": [],
   "source": [
    "plot(amestree)\n",
    "text(amestree,pretty=TRUE)"
   ]
  },
  {
   "cell_type": "markdown",
   "id": "de10c96b",
   "metadata": {},
   "source": [
    "### Cost Complexity Prunning"
   ]
  },
  {
   "cell_type": "code",
   "execution_count": null,
   "id": "86842ac2",
   "metadata": {},
   "outputs": [],
   "source": [
    " amestree$cptable"
   ]
  },
  {
   "cell_type": "code",
   "execution_count": null,
   "id": "014067cf",
   "metadata": {},
   "outputs": [],
   "source": [
    "amestree<-rpart(log(Sale_Price) ~ Gr_Liv_Area  + Bldg_Type ,data=ames)"
   ]
  },
  {
   "cell_type": "code",
   "execution_count": null,
   "id": "0cda89fc",
   "metadata": {},
   "outputs": [],
   "source": [
    " amestree$cptable"
   ]
  },
  {
   "cell_type": "markdown",
   "id": "6e92e07f",
   "metadata": {},
   "source": [
    "### With Caret"
   ]
  },
  {
   "cell_type": "code",
   "execution_count": null,
   "id": "ecfc1c57",
   "metadata": {},
   "outputs": [],
   "source": [
    "p_load(\"caret\")"
   ]
  },
  {
   "cell_type": "code",
   "execution_count": null,
   "id": "318c6c70",
   "metadata": {},
   "outputs": [],
   "source": [
    "fitControl<-trainControl(method =\"cv\",\n",
    "                         number=5)\n"
   ]
  },
  {
   "cell_type": "code",
   "execution_count": null,
   "id": "0daa2046",
   "metadata": {},
   "outputs": [],
   "source": [
    "set.seed(123)\n",
    "tree <- train(\n",
    "    log(Sale_Price) ~ Gr_Liv_Area  + Bldg_Type+ Fence,\n",
    "    data=ames,\n",
    "    method = \"rpart\",\n",
    "    trControl = fitControl\n",
    ")"
   ]
  },
  {
   "cell_type": "code",
   "execution_count": null,
   "id": "6dab8c38",
   "metadata": {},
   "outputs": [],
   "source": [
    "tree"
   ]
  },
  {
   "cell_type": "code",
   "execution_count": null,
   "id": "1df0446b",
   "metadata": {},
   "outputs": [],
   "source": [
    "prp(tree$finalModel)"
   ]
  },
  {
   "cell_type": "markdown",
   "id": "bfd6d093",
   "metadata": {},
   "source": [
    "#### Tunning Hiper-parameters\n",
    "\n",
    "#####  `method=rpart`  only allows to tune Complexity Parameter\n",
    "\n",
    "- Can change the length\n"
   ]
  },
  {
   "cell_type": "code",
   "execution_count": null,
   "id": "c93df854",
   "metadata": {},
   "outputs": [],
   "source": [
    "set.seed(123)\n",
    "tree_lenght <- train(\n",
    "    log(Sale_Price) ~ Gr_Liv_Area  + Bldg_Type + Fence,\n",
    "    data=ames,\n",
    "    method = \"rpart\",\n",
    "    trControl = fitControl,\n",
    "    tuneLength=100\n",
    ")"
   ]
  },
  {
   "cell_type": "code",
   "execution_count": null,
   "id": "9cfb3545",
   "metadata": {},
   "outputs": [],
   "source": [
    "tree_lenght"
   ]
  },
  {
   "cell_type": "markdown",
   "id": "82c16df7",
   "metadata": {},
   "source": [
    "- Or the grid"
   ]
  },
  {
   "cell_type": "code",
   "execution_count": null,
   "id": "d5bda02f",
   "metadata": {},
   "outputs": [],
   "source": [
    "set.seed(123)\n",
    "tree_grid <- train(\n",
    "    log(Sale_Price) ~ Gr_Liv_Area  + Bldg_Type + Fence,\n",
    "    data=ames,\n",
    "    method = \"rpart\",\n",
    "    trControl = fitControl,\n",
    "    tuneGrid = expand.grid(cp = seq(0.002584, 0.002586, 0.00000001))\n",
    ")\n"
   ]
  },
  {
   "cell_type": "code",
   "execution_count": null,
   "id": "b61fe6ff",
   "metadata": {},
   "outputs": [],
   "source": [
    "tree_grid"
   ]
  },
  {
   "cell_type": "markdown",
   "id": "c699133f",
   "metadata": {},
   "source": [
    "#####  `method=rpart2`  allows to tune Max Tree Depth"
   ]
  },
  {
   "cell_type": "code",
   "execution_count": null,
   "id": "7fc8de46",
   "metadata": {},
   "outputs": [],
   "source": [
    "set.seed(123)\n",
    "tree_rpart2 <- train(\n",
    "    log(Sale_Price) ~ Gr_Liv_Area  + Bldg_Type + Fence,\n",
    "    data=ames,\n",
    "    method = \"rpart2\",\n",
    "    trControl = fitControl,\n",
    "    tuneGrid = expand.grid(maxdepth = seq(1,30,1))\n",
    ")"
   ]
  },
  {
   "cell_type": "code",
   "execution_count": null,
   "id": "0d2cfd48",
   "metadata": {
    "scrolled": true
   },
   "outputs": [],
   "source": [
    "tree_rpart2"
   ]
  },
  {
   "cell_type": "markdown",
   "id": "c5d68a54",
   "metadata": {},
   "source": [
    "More details here: https://topepo.github.io/caret/train-models-by-tag.html#tree-based-model"
   ]
  },
  {
   "cell_type": "markdown",
   "id": "82669b43",
   "metadata": {},
   "source": [
    "## Example Problem Set"
   ]
  },
  {
   "cell_type": "markdown",
   "id": "70159a82",
   "metadata": {},
   "source": [
    "Data on Kaggle: https://www.kaggle.com/competitions/uniandes-bdml-202313-ps2/overview"
   ]
  },
  {
   "cell_type": "code",
   "execution_count": null,
   "id": "db4700a8",
   "metadata": {},
   "outputs": [],
   "source": [
    "test<- read.csv(\"extra/test.csv\")\n",
    "\n",
    "\n",
    "train<-read.csv(\"extra/train.csv\")\n",
    "\n",
    "head(test)"
   ]
  },
  {
   "cell_type": "code",
   "execution_count": null,
   "id": "87483f65",
   "metadata": {},
   "outputs": [],
   "source": [
    "test<-test  %>% mutate(sample=\"test\")\n",
    "train<-train  %>% mutate(sample=\"train\")\n",
    "\n",
    "db_ps<-rbind(test,train)\n",
    "table(db_ps$sample)"
   ]
  },
  {
   "cell_type": "code",
   "execution_count": null,
   "id": "5efe5a07",
   "metadata": {},
   "outputs": [],
   "source": [
    "p_load(\"sf\")\n",
    "db_ps <- st_as_sf(\n",
    "  db_ps,\n",
    "  # \"coords\" is in x/y order -- so longitude goes first!\n",
    "  coords = c(\"lon\", \"lat\"),\n",
    "  # Set our coordinate reference system to EPSG:4326,\n",
    "  # the standard WGS84 geodetic coordinate reference system\n",
    "  crs = 4326\n",
    ")"
   ]
  },
  {
   "cell_type": "code",
   "execution_count": null,
   "id": "841f1483",
   "metadata": {},
   "outputs": [],
   "source": [
    "p_load(\"leaflet\")\n",
    "\n",
    "pal <- colorFactor(\n",
    "  palette = c('red', 'green'),\n",
    "  domain = db_ps$sample\n",
    ")\n",
    "\n",
    "map<-leaflet() %>% \n",
    "  addTiles() %>%  #capa base\n",
    "  addCircles(data=db_ps,col=~pal(sample)) #capa casas\n",
    "map "
   ]
  },
  {
   "cell_type": "code",
   "execution_count": null,
   "id": "2281a5e3",
   "metadata": {},
   "outputs": [],
   "source": [
    "#Extra steps bc of jupyter notebook (if you are in RStudio, you don't need these steps)\n",
    "p_load(\"htmlwidgets\") \n",
    "p_load(\"IRdisplay\")\n",
    "saveWidget(map, file=\"m.html\")\n",
    "display_html('<iframe width=\"900\" height=\"700\" src=\"m.html\"></iframe>')"
   ]
  },
  {
   "cell_type": "markdown",
   "id": "9de2af2a",
   "metadata": {},
   "source": [
    "### Distance to CBD?"
   ]
  },
  {
   "cell_type": "markdown",
   "id": "9e68e26b",
   "metadata": {},
   "source": [
    "\n",
    "<div >\n",
    "<img width=\"400\" height=\"100\" src = \"figures/precio_suelo.png\" />\n",
    "</div>"
   ]
  },
  {
   "cell_type": "code",
   "execution_count": null,
   "id": "c12e57fd",
   "metadata": {},
   "outputs": [],
   "source": [
    "p_load(\"tmaptools\") #needs to install p_load(\"geojsonio\")\n",
    "cbd <- geocode_OSM(\"Centro Internacional, Bogotá\", as.sf=T) \n",
    "cbd"
   ]
  },
  {
   "cell_type": "code",
   "execution_count": null,
   "id": "5a49fcf2",
   "metadata": {},
   "outputs": [],
   "source": [
    "db_ps$DCBD<-st_distance(x = db_ps, y = cbd)"
   ]
  },
  {
   "cell_type": "code",
   "execution_count": null,
   "id": "d070637d",
   "metadata": {},
   "outputs": [],
   "source": [
    "head(db_ps$DCBD)"
   ]
  },
  {
   "cell_type": "code",
   "execution_count": null,
   "id": "c334516e",
   "metadata": {},
   "outputs": [],
   "source": [
    "db_ps  %>% st_drop_geometry() %>% group_by(sample)  %>% summarize(mean(DCBD))"
   ]
  },
  {
   "cell_type": "code",
   "execution_count": null,
   "id": "6f867ec8",
   "metadata": {},
   "outputs": [],
   "source": [
    "train_data<-db_ps  %>% filter(sample==\"train\")  %>% select(price,DCBD)  %>% na.omit()"
   ]
  },
  {
   "cell_type": "code",
   "execution_count": null,
   "id": "e198b43e",
   "metadata": {},
   "outputs": [],
   "source": [
    "set.seed(123)\n",
    "tree <- train(\n",
    "    log(price) ~    DCBD,\n",
    "    data=train_data,\n",
    "    method = \"rpart\",\n",
    "    trControl = fitControl,\n",
    "    tuneLength=10\n",
    ")"
   ]
  },
  {
   "cell_type": "code",
   "execution_count": null,
   "id": "17215ba3",
   "metadata": {},
   "outputs": [],
   "source": [
    "test_data<-db_ps  %>% filter(sample==\"test\")  \n",
    "test_data$pred_tree<-predict(tree,test_data)"
   ]
  },
  {
   "cell_type": "code",
   "execution_count": null,
   "id": "f67ffe10",
   "metadata": {},
   "outputs": [],
   "source": [
    "head(test_data  %>% select(property_id,pred_tree))"
   ]
  },
  {
   "cell_type": "code",
   "execution_count": null,
   "id": "4f1f232e",
   "metadata": {},
   "outputs": [],
   "source": [
    "test_data <- test_data   %>% st_drop_geometry()  %>% mutate(pred_tree=exp(pred_tree))\n",
    "head(test_data  %>% select(property_id,pred_tree))"
   ]
  },
  {
   "cell_type": "code",
   "execution_count": null,
   "id": "8dad6b9a",
   "metadata": {},
   "outputs": [],
   "source": [
    "submit<-test_data  %>% select(property_id,pred_tree)\n",
    "submit <- submit  %>% rename(price=pred_tree)\n",
    "write.csv(submit,\"Tree_v1.csv\",row.names=FALSE)"
   ]
  }
 ],
 "metadata": {
  "jupytext": {
   "formats": "ipynb,Rmd"
  },
  "kernelspec": {
   "display_name": "R",
   "language": "R",
   "name": "ir"
  },
  "language_info": {
   "codemirror_mode": "r",
   "file_extension": ".r",
   "mimetype": "text/x-r-source",
   "name": "R",
   "pygments_lexer": "r",
   "version": "4.3.0"
  },
  "toc": {
   "base_numbering": 1,
   "nav_menu": {},
   "number_sections": true,
   "sideBar": true,
   "skip_h1_title": false,
   "title_cell": "Table of Contents",
   "title_sidebar": "Contents",
   "toc_cell": false,
   "toc_position": {},
   "toc_section_display": true,
   "toc_window_display": false
  }
 },
 "nbformat": 4,
 "nbformat_minor": 5
}
